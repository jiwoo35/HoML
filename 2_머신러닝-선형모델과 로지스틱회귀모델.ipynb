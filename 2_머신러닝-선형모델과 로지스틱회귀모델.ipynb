{
 "cells": [
  {
   "cell_type": "code",
   "execution_count": 2,
   "metadata": {},
   "outputs": [],
   "source": [
    "import numpy as np\n",
    "import pandas as pd\n",
    "import matplotlib as mpl\n",
    "import matplotlib.pyplot as plt\n",
    "import seaborn as sns\n",
    "\n",
    "import matplotlib.font_manager as fm\n",
    "font_name = fm.FontProperties(fname=\"C:/Windows/Fonts/malgun.ttf\").get_name()\n",
    "plt.rc('font', family=font_name)\n",
    "\n",
    "mpl.rcParams[\"axes.unicode_minus\"] = False\n",
    "\n",
    "from sklearn.model_selection import train_test_split\n",
    "\n",
    "import mglearn"
   ]
  },
  {
   "cell_type": "markdown",
   "metadata": {},
   "source": [
    "## 선형 회귀 모델\n",
    "\n",
    "- 핸즈온 p158\n",
    "- y = ax + b에서 a: 회귀계수(가중치)\n",
    "- hypothesis : y = w[0]*x[0] + w[1]*x[1] + ... + b"
   ]
  },
  {
   "cell_type": "code",
   "execution_count": 3,
   "metadata": {},
   "outputs": [
    {
     "name": "stdout",
     "output_type": "stream",
     "text": [
      "w[0]: 0.393906  b: -0.031804\n"
     ]
    },
    {
     "data": {
      "image/png": "[encoded data removed]",
      "text/plain": [
       "<Figure size 576x576 with 1 Axes>"
      ]
     },
     "metadata": {
      "needs_background": "light"
     },
     "output_type": "display_data"
    }
   ],
   "source": [
    "mglearn.plots.plot_linear_regression_wave()"
   ]
  },
  {
   "cell_type": "code",
   "execution_count": 4,
   "metadata": {},
   "outputs": [],
   "source": [
    "X, y = mglearn.datasets.make_wave(n_samples=60)\n",
    "X_train, X_test, y_train, y_test = train_test_split(X, y, random_state=42)"
   ]
  },
  {
   "cell_type": "code",
   "execution_count": 5,
   "metadata": {},
   "outputs": [],
   "source": [
    "from sklearn.linear_model import LinearRegression"
   ]
  },
  {
   "cell_type": "code",
   "execution_count": 6,
   "metadata": {},
   "outputs": [
    {
     "data": {
      "text/plain": [
       "LinearRegression()"
      ]
     },
     "execution_count": 6,
     "metadata": {},
     "output_type": "execute_result"
    }
   ],
   "source": [
    "lr = LinearRegression()\n",
    "lr.fit(X_train, y_train)"
   ]
  },
  {
   "cell_type": "code",
   "execution_count": 7,
   "metadata": {},
   "outputs": [
    {
     "name": "stdout",
     "output_type": "stream",
     "text": [
      "훈련 점수 :  0.6700890315075756\n",
      "테스트 점수 :  0.65933685968637\n",
      "기울기 : [0.39390555], 절편 : -0.031804343026759746\n"
     ]
    }
   ],
   "source": [
    "print(\"훈련 점수 : \", lr.score(X_train, y_train))\n",
    "print(\"테스트 점수 : \", lr.score(X_test, y_test))\n",
    "\n",
    "dir(lr)\n",
    "print(\"기울기 : {}, 절편 : {}\".format(lr.coef_, lr.intercept_))"
   ]
  },
  {
   "cell_type": "code",
   "execution_count": 8,
   "metadata": {},
   "outputs": [],
   "source": [
    "# 주제 : 전기 생산량과 소비량\n",
    "# 귀무가설 : 전기 생산량과 전기 소비량의 상관 관계가 없다.\n",
    "# 대립가설 : 전기 생산량과 전기 소비량의 상관 관계가 있다.\n",
    "\n",
    "# 월별 전기 사용량(백만kwh)\n",
    "y = [2.48, 2.27, 2.47, 2.77, 2.98, 3.05, 3.18, 3.46, 3.03, 3.25, 2.67, 2.53]\n",
    "\n",
    "# 월별 전기 생산금액(억원)\n",
    "X = [3.52, 2.58, 3.31, 4.07, 4.62, 3.98, 4.29, 4.83, 3.71, 4.61, 3.90, 3.20]\n",
    "\n",
    "# 생산량 4일때 사용량은 얼마인가?"
   ]
  },
  {
   "cell_type": "code",
   "execution_count": 9,
   "metadata": {},
   "outputs": [
    {
     "data": {
      "text/plain": [
       "LinregressResult(slope=0.4956032360182905, intercept=0.9195814280689418, rvalue=0.8929235125385305, pvalue=9.238421943157891e-05, stderr=0.07901935226531728, intercept_stderr=0.3110591892275586)"
      ]
     },
     "execution_count": 9,
     "metadata": {},
     "output_type": "execute_result"
    }
   ],
   "source": [
    "from scipy import stats\n",
    "\n",
    "result = stats.linregress(X, y)\n",
    "result\n",
    "# slope(기울기)=0.4956032360182905, intercept(y절편)=0.9195814280689418, rvalue(상관계수)=0.8929235125385305, \n",
    "# pvalue=9.238421943157891e-05<0.05 => 대립가설 : 관계있다"
   ]
  },
  {
   "cell_type": "code",
   "execution_count": 10,
   "metadata": {},
   "outputs": [
    {
     "name": "stdout",
     "output_type": "stream",
     "text": [
      "0.4956032360182905 0.9195814280689418\n"
     ]
    }
   ],
   "source": [
    "slope, intercept, rv, pv, stderr = stats.linregress(X, y)\n",
    "print(slope, intercept)"
   ]
  },
  {
   "cell_type": "code",
   "execution_count": 11,
   "metadata": {},
   "outputs": [
    {
     "data": {
      "text/plain": [
       "[<matplotlib.lines.Line2D at 0x27a4b890d00>]"
      ]
     },
     "execution_count": 11,
     "metadata": {},
     "output_type": "execute_result"
    },
    {
     "data": {
      "image/png": "[encoded data removed]",
      "text/plain": [
       "<Figure size 432x288 with 1 Axes>"
      ]
     },
     "metadata": {
      "needs_background": "light"
     },
     "output_type": "display_data"
    }
   ],
   "source": [
    "plt.scatter(X, y) # 산점도 그리기\n",
    "plt.plot(np.array(X), slope*np.array(X)+intercept, c=\"red\") # 회귀선 그리기"
   ]
  },
  {
   "cell_type": "code",
   "execution_count": 24,
   "metadata": {},
   "outputs": [
    {
     "name": "stdout",
     "output_type": "stream",
     "text": [
      "결과 :  2.901994372142104\n"
     ]
    }
   ],
   "source": [
    "# 생산량 4일때 사용량은 얼마인가?\n",
    "result = slope*4 + intercept\n",
    "print(\"결과 : \", result)"
   ]
  },
  {
   "cell_type": "code",
   "execution_count": 12,
   "metadata": {},
   "outputs": [
    {
     "name": "stdout",
     "output_type": "stream",
     "text": [
      "[0.49560324] ,  0.919581428068942\n"
     ]
    },
    {
     "data": {
      "text/plain": [
       "array([2.90199437])"
      ]
     },
     "execution_count": 12,
     "metadata": {},
     "output_type": "execute_result"
    }
   ],
   "source": [
    "# 머신러닝 알고리즘 사용\n",
    "\n",
    "# 1차원 리스트를 reshape로 2차원으로 바꿔주기 위함\n",
    "num = np.array(X)\n",
    "num = num.reshape(-1, 1)\n",
    "\n",
    "lr2 = LinearRegression()\n",
    "lr2.fit(num, y)\n",
    "print(lr2.coef_, \", \", lr2.intercept_)\n",
    "\n",
    "lr2.predict([[4]])"
   ]
  },
  {
   "cell_type": "markdown",
   "metadata": {},
   "source": [
    "#### 고차원 특성에 대한 과적합(Overfitting)"
   ]
  },
  {
   "cell_type": "code",
   "execution_count": 13,
   "metadata": {},
   "outputs": [
    {
     "name": "stdout",
     "output_type": "stream",
     "text": [
      "(506, 104)\n",
      "훈련 점수 :  0.9520519609032729\n",
      "테스트 점수 :  0.6074721959665752\n"
     ]
    }
   ],
   "source": [
    "from mglearn.datasets import load_extended_boston\n",
    "\n",
    "X, y = load_extended_boston()\n",
    "print(X.shape) # 기존 boston 데이터는 컬럼이 13개 밖에 안 됨.\n",
    "# 컬럼이 많을수록 과대적합 위험이 커짐\n",
    "\n",
    "X_train, X_test, y_train, y_test = train_test_split(X, y, random_state=0)\n",
    "\n",
    "lr = LinearRegression().fit(X_train, y_train)\n",
    "\n",
    "print(\"훈련 점수 : \", lr.score(X_train, y_train))\n",
    "print(\"테스트 점수 : \", lr.score(X_test, y_test))\n",
    "# 선형회귀 모델은 사용법이 가장 간단하지만 튜닝이 불가능하다.\n",
    "# 위 예시처럼 훈련과 테스트 점수 차가 크면 할 수 있는게 없다 => 규제 선형 모델을 사용하자!"
   ]
  },
  {
   "cell_type": "markdown",
   "metadata": {},
   "source": [
    "#### 선형 회귀의 장단점\n",
    "\n",
    "- 장점 :\n",
    "    + 사용법이 간단하다\n",
    "    + 컬럼이 많아져도 간단히 사용 가능\n",
    "- 단점 :\n",
    "    + 튜닝이 불가능하다 => 규제 선형 모델\n",
    "    + 다중 공선성 (컬럼 간 관련이 있을 수 있다)\n",
    "\n",
    "## 규제 선형 모델\n",
    "\n",
    "- 핸즈온 p184~\n",
    "- 1) 릿지(Ridge) 회귀\n",
    "    + L2 norm 규제 사용\n",
    "- 2) 라쏘(Least Absolute Shrink and Selection Operator) 회귀\n",
    "    + L1 norm 규제 사용\n",
    "- 3) 엘라스틱 넷(Elastic Net)\n",
    "    + L1 norm + L2 norm"
   ]
  },
  {
   "cell_type": "markdown",
   "metadata": {},
   "source": [
    "### 1) 릿지(Ridge) 회귀 모델\n",
    "\n",
    "- L2 규제(Regularization)\n",
    "- MSE항에 Penalty항을 추가함\n",
    "- 알파를 크게 하면 페널티의 효과가 커지고(가중치 감소), 작게 하면 그 반대가 된다.\n",
    "- 모델을 단순하게 해주고, 훈련셋과 테스트셋에 대한 성능 차이를 절충하는 효과"
   ]
  },
  {
   "cell_type": "code",
   "execution_count": 14,
   "metadata": {},
   "outputs": [
    {
     "name": "stdout",
     "output_type": "stream",
     "text": [
      "훈련 점수 :  0.885796658517094\n",
      "테스트 점수 :  0.7527683481744755\n"
     ]
    }
   ],
   "source": [
    "from sklearn.linear_model import Ridge\n",
    "\n",
    "ridge = Ridge().fit(X_train, y_train) # alpha = 1.0 기본값\n",
    "print(\"훈련 점수 : \", ridge.score(X_train, y_train))\n",
    "print(\"테스트 점수 : \", ridge.score(X_test, y_test))\n",
    "\n",
    "# 해석 : 선형 회귀 모델과 비교했을 때 훈련과 테스트 점수 차가 줄어듬"
   ]
  },
  {
   "cell_type": "code",
   "execution_count": 39,
   "metadata": {},
   "outputs": [
    {
     "name": "stdout",
     "output_type": "stream",
     "text": [
      "훈련 점수 :  0.7882787115369614\n",
      "테스트 점수 :  0.635941148917731\n"
     ]
    }
   ],
   "source": [
    "ridge10 = Ridge(alpha=10).fit(X_train, y_train) # alpha = 10\n",
    "print(\"훈련 점수 : \", ridge10.score(X_train, y_train)) # 알파가 커져서 훈련 데이터에 대한 성능 떨어짐\n",
    "print(\"테스트 점수 : \", ridge10.score(X_test, y_test))\n",
    "# alpha(규제)가 커질수록 모델이 단순해짐 = 일반화"
   ]
  },
  {
   "cell_type": "code",
   "execution_count": 30,
   "metadata": {},
   "outputs": [
    {
     "name": "stdout",
     "output_type": "stream",
     "text": [
      "훈련 점수 :  0.9282273685001985\n",
      "테스트 점수 :  0.772206793647982\n"
     ]
    }
   ],
   "source": [
    "ridge01 = Ridge(alpha=0.1).fit(X_train, y_train)  # alpha = 0.1\n",
    "print(\"훈련 점수 : \", ridge01.score(X_train, y_train)) # 알파가 작아져서 모델이 훈련 데이터에 가까워짐\n",
    "print(\"테스트 점수 : \", ridge01.score(X_test, y_test))\n",
    "# alpha(규제)가 작아질수록 모델이 복잡해짐\n",
    "\n",
    "# 적절한 alpha값을 찾는 것이 중요하다"
   ]
  },
  {
   "cell_type": "code",
   "execution_count": 56,
   "metadata": {},
   "outputs": [
    {
     "data": {
      "text/plain": [
       "<matplotlib.legend.Legend at 0x1cfa13c0c70>"
      ]
     },
     "execution_count": 56,
     "metadata": {},
     "output_type": "execute_result"
    },
    {
     "data": {
      "image/png": "[encoded data removed]",
      "text/plain": [
       "<Figure size 432x288 with 1 Axes>"
      ]
     },
     "metadata": {
      "needs_background": "light"
     },
     "output_type": "display_data"
    }
   ],
   "source": [
    "plt.plot(ridge10.coef_, '^', label=\"Ridge alpha=10\")\n",
    "plt.plot(ridge.coef_, 's', label=\"Ridge alpha=1\")\n",
    "plt.plot(ridge01.coef_, 'v', label=\"Ridge alpha=0.1\")\n",
    "\n",
    "plt.plot(lr.coef_, 'o', label=\"Linear Regression\")\n",
    "\n",
    "plt.xlabel(\"계수 목록\")\n",
    "plt.ylabel(\"계수 크기\")\n",
    "plt.hlines(0, 0, len(lr.coef_))\n",
    "plt.ylim(-25, 25)\n",
    "plt.legend()\n",
    "\n",
    "# 해석 : alpha가 커질수록 직선에 가깝다 = 모델이 단순하다 = 일반화\n",
    "# alpha가 작을수록 곡선에 가깝다 = 모델이 복잡하다 = 훈련 데이터에 가깝다 = 과대적합 위험"
   ]
  },
  {
   "cell_type": "code",
   "execution_count": 15,
   "metadata": {},
   "outputs": [
    {
     "data": {
      "image/png": "[encoded data removed]",
      "text/plain": [
       "<Figure size 432x288 with 1 Axes>"
      ]
     },
     "metadata": {
      "needs_background": "light"
     },
     "output_type": "display_data"
    }
   ],
   "source": [
    "# 알파값을 1로 고정한 상태에서 데이터의 크기 조절\n",
    "mglearn.plots.plot_ridge_n_samples()\n",
    "\n",
    "# 해석 : 훈련 데이터만 성능이 좋은 것은 의미 없다.\n",
    "# 데이터가 많을수록 training과 test의 성능이 비슷해짐 \n",
    "# => 데이터의 양이 많으면 과대적합을 해결할 수 있다.(핸즈온 p59)"
   ]
  },
  {
   "cell_type": "markdown",
   "metadata": {},
   "source": [
    "### 2) 라쏘(Lasso) 회귀 모델\n",
    "\n",
    "- L1 규제 사용 \n",
    "- MSE항에 Penalty항을 추가함\n",
    "- 알파를 크게 하면 페널티의 효과가 커지고 작게 하면 그 반대가 된다.\n",
    "- 특성 선택이 자동으로 이루어진다.\n",
    "    + ridge 회귀는 가중치가 0에 가까워지나, 0이 될 수는 없다\n",
    "    + lasso 회귀는 가중치가 0이 될 수 있다. => 즉, 특성이 사라질 수 있다."
   ]
  },
  {
   "cell_type": "code",
   "execution_count": 16,
   "metadata": {},
   "outputs": [],
   "source": [
    "from sklearn.linear_model import Lasso"
   ]
  },
  {
   "cell_type": "code",
   "execution_count": 17,
   "metadata": {},
   "outputs": [
    {
     "name": "stdout",
     "output_type": "stream",
     "text": [
      "훈련 점수 :  0.29323768991114607\n",
      "테스트 점수 :  0.20937503255272294\n",
      "사용한 특성의 수 :  4\n"
     ]
    }
   ],
   "source": [
    "lasso = Lasso().fit(X_train, y_train) # alpha=1.0\n",
    "print(\"훈련 점수 : \", lasso.score(X_train, y_train))\n",
    "print(\"테스트 점수 : \", lasso.score(X_test, y_test))\n",
    "print(\"사용한 특성의 수 : \", np.sum(lasso.coef_ != 0)) # 전체 104개의 피처 중 4개만 사용\n",
    "# 훈련, 테스트 성능이 너무 낮음 => 알파(규제)를 적절히 조절해야 한다"
   ]
  },
  {
   "cell_type": "code",
   "execution_count": 18,
   "metadata": {},
   "outputs": [
    {
     "name": "stdout",
     "output_type": "stream",
     "text": [
      "훈련 점수 :  0.8962226511086497\n",
      "테스트 점수 :  0.7656571174549983\n",
      "사용한 특성의 수 :  33\n"
     ]
    }
   ],
   "source": [
    "lasso001 = Lasso(alpha=0.01, max_iter=100000).fit(X_train, y_train) # alpha = 0.01, 알파가 작아지면 \n",
    "print(\"훈련 점수 : \", lasso001.score(X_train, y_train)) # 모델은 훈련 데이터에 가까워짐\n",
    "print(\"테스트 점수 : \", lasso001.score(X_test, y_test)) # 테스트 점수도 향상됨\n",
    "print(\"사용한 특성의 수 : \", np.sum(lasso001.coef_ != 0)) # 33 개로 피처 개수 증가 \n",
    "# 즉, 알파(규제)가 작아지면 모델이 복잡해짐"
   ]
  },
  {
   "cell_type": "code",
   "execution_count": 60,
   "metadata": {},
   "outputs": [
    {
     "name": "stdout",
     "output_type": "stream",
     "text": [
      "훈련 점수 :  0.9507158754515467\n",
      "테스트 점수 :  0.6437467421272709\n",
      "사용한 특성의 수 :  96\n"
     ]
    }
   ],
   "source": [
    "lasso00001 = Lasso(alpha=0.0001, max_iter=100000).fit(X_train, y_train) # alpha = 0.0001, 알파가 너무 작아지면 \n",
    "print(\"훈련 점수 : \", lasso00001.score(X_train, y_train)) # 모델이 훈련 데이터에 더 가까워짐\n",
    "print(\"테스트 점수 : \", lasso00001.score(X_test, y_test)) # 테스트 성능은 오히려 떨어짐 (테스트 점수와 훈련 점수 차이가 커짐) => 과대적합!\n",
    "print(\"사용한 특성의 수 : \", np.sum(lasso00001.coef_ != 0)) # 96개로 피처 개수 더 증가 => 복잡\n",
    "# 즉, 알파(규제)가 너무 작아지면 모델이 너무 복잡해짐 => 과대적합 발생"
   ]
  },
  {
   "cell_type": "markdown",
   "metadata": {},
   "source": [
    "### 경사 하강법\n",
    "\n",
    "- 핸즈온 P164-\n",
    "- 알파(learning rate)를 조절해서 최적화 알고리즘을 찾음\n",
    "    + 알파가 너무 크면 발산\n",
    "    + 알파가 너무 작으면 시간이 오래 걸림, 중간에 멈춤"
   ]
  },
  {
   "cell_type": "markdown",
   "metadata": {},
   "source": [
    "### 3) ElasticNet\n",
    "\n",
    "- Ridge + Lasso\n",
    "- L1 norm + L2 norm\n",
    "- 둘다 규제하기가 어려우므로 일반적으로 잘 쓰지 않음"
   ]
  },
  {
   "cell_type": "markdown",
   "metadata": {},
   "source": [
    "---\n",
    "### Boston Sample을 이용한 다중 선형 회귀"
   ]
  },
  {
   "cell_type": "code",
   "execution_count": 63,
   "metadata": {},
   "outputs": [
    {
     "name": "stdout",
     "output_type": "stream",
     "text": [
      "(506, 13)\n",
      "['CRIM' 'ZN' 'INDUS' 'CHAS' 'NOX' 'RM' 'AGE' 'DIS' 'RAD' 'TAX' 'PTRATIO'\n",
      " 'B' 'LSTAT']\n",
      "[24.  21.6 34.7 33.4 36.2 28.7 22.9 27.1 16.5 18.9 15.  18.9 21.7 20.4\n",
      " 18.2 19.9 23.1 17.5 20.2 18.2 13.6 19.6 15.2 14.5 15.6 13.9 16.6 14.8\n",
      " 18.4 21.  12.7 14.5 13.2 13.1 13.5 18.9 20.  21.  24.7 30.8 34.9 26.6\n",
      " 25.3 24.7 21.2 19.3 20.  16.6 14.4 19.4 19.7 20.5 25.  23.4 18.9 35.4\n",
      " 24.7 31.6 23.3 19.6 18.7 16.  22.2 25.  33.  23.5 19.4 22.  17.4 20.9\n",
      " 24.2 21.7 22.8 23.4 24.1 21.4 20.  20.8 21.2 20.3 28.  23.9 24.8 22.9\n",
      " 23.9 26.6 22.5 22.2 23.6 28.7 22.6 22.  22.9 25.  20.6 28.4 21.4 38.7\n",
      " 43.8 33.2 27.5 26.5 18.6 19.3 20.1 19.5 19.5 20.4 19.8 19.4 21.7 22.8\n",
      " 18.8 18.7 18.5 18.3 21.2 19.2 20.4 19.3 22.  20.3 20.5 17.3 18.8 21.4\n",
      " 15.7 16.2 18.  14.3 19.2 19.6 23.  18.4 15.6 18.1 17.4 17.1 13.3 17.8\n",
      " 14.  14.4 13.4 15.6 11.8 13.8 15.6 14.6 17.8 15.4 21.5 19.6 15.3 19.4\n",
      " 17.  15.6 13.1 41.3 24.3 23.3 27.  50.  50.  50.  22.7 25.  50.  23.8\n",
      " 23.8 22.3 17.4 19.1 23.1 23.6 22.6 29.4 23.2 24.6 29.9 37.2 39.8 36.2\n",
      " 37.9 32.5 26.4 29.6 50.  32.  29.8 34.9 37.  30.5 36.4 31.1 29.1 50.\n",
      " 33.3 30.3 34.6 34.9 32.9 24.1 42.3 48.5 50.  22.6 24.4 22.5 24.4 20.\n",
      " 21.7 19.3 22.4 28.1 23.7 25.  23.3 28.7 21.5 23.  26.7 21.7 27.5 30.1\n",
      " 44.8 50.  37.6 31.6 46.7 31.5 24.3 31.7 41.7 48.3 29.  24.  25.1 31.5\n",
      " 23.7 23.3 22.  20.1 22.2 23.7 17.6 18.5 24.3 20.5 24.5 26.2 24.4 24.8\n",
      " 29.6 42.8 21.9 20.9 44.  50.  36.  30.1 33.8 43.1 48.8 31.  36.5 22.8\n",
      " 30.7 50.  43.5 20.7 21.1 25.2 24.4 35.2 32.4 32.  33.2 33.1 29.1 35.1\n",
      " 45.4 35.4 46.  50.  32.2 22.  20.1 23.2 22.3 24.8 28.5 37.3 27.9 23.9\n",
      " 21.7 28.6 27.1 20.3 22.5 29.  24.8 22.  26.4 33.1 36.1 28.4 33.4 28.2\n",
      " 22.8 20.3 16.1 22.1 19.4 21.6 23.8 16.2 17.8 19.8 23.1 21.  23.8 23.1\n",
      " 20.4 18.5 25.  24.6 23.  22.2 19.3 22.6 19.8 17.1 19.4 22.2 20.7 21.1\n",
      " 19.5 18.5 20.6 19.  18.7 32.7 16.5 23.9 31.2 17.5 17.2 23.1 24.5 26.6\n",
      " 22.9 24.1 18.6 30.1 18.2 20.6 17.8 21.7 22.7 22.6 25.  19.9 20.8 16.8\n",
      " 21.9 27.5 21.9 23.1 50.  50.  50.  50.  50.  13.8 13.8 15.  13.9 13.3\n",
      " 13.1 10.2 10.4 10.9 11.3 12.3  8.8  7.2 10.5  7.4 10.2 11.5 15.1 23.2\n",
      "  9.7 13.8 12.7 13.1 12.5  8.5  5.   6.3  5.6  7.2 12.1  8.3  8.5  5.\n",
      " 11.9 27.9 17.2 27.5 15.  17.2 17.9 16.3  7.   7.2  7.5 10.4  8.8  8.4\n",
      " 16.7 14.2 20.8 13.4 11.7  8.3 10.2 10.9 11.   9.5 14.5 14.1 16.1 14.3\n",
      " 11.7 13.4  9.6  8.7  8.4 12.8 10.5 17.1 18.4 15.4 10.8 11.8 14.9 12.6\n",
      " 14.1 13.  13.4 15.2 16.1 17.8 14.9 14.1 12.7 13.5 14.9 20.  16.4 17.7\n",
      " 19.5 20.2 21.4 19.9 19.  19.1 19.1 20.1 19.9 19.6 23.2 29.8 13.8 13.3\n",
      " 16.7 12.  14.6 21.4 23.  23.7 25.  21.8 20.6 21.2 19.1 20.6 15.2  7.\n",
      "  8.1 13.6 20.1 21.8 24.5 23.1 19.7 18.3 21.2 17.5 16.8 22.4 20.6 23.9\n",
      " 22.  11.9]\n"
     ]
    }
   ],
   "source": [
    "from sklearn.datasets import load_boston\n",
    "\n",
    "boston = load_boston()\n",
    "print(boston.data.shape)\n",
    "print(boston.feature_names)\n",
    "print(boston.target)"
   ]
  },
  {
   "cell_type": "markdown",
   "metadata": {},
   "source": [
    "![boston image](./data/boston.png)"
   ]
  },
  {
   "cell_type": "code",
   "execution_count": 31,
   "metadata": {},
   "outputs": [],
   "source": [
    "model_boston = LinearRegression().fit(boston.data, boston.target)"
   ]
  },
  {
   "cell_type": "code",
   "execution_count": 32,
   "metadata": {},
   "outputs": [
    {
     "data": {
      "text/plain": [
       "array([-1.08011358e-01,  4.64204584e-02,  2.05586264e-02,  2.68673382e+00,\n",
       "       -1.77666112e+01,  3.80986521e+00,  6.92224640e-04, -1.47556685e+00,\n",
       "        3.06049479e-01, -1.23345939e-02, -9.52747232e-01,  9.31168327e-03,\n",
       "       -5.24758378e-01])"
      ]
     },
     "execution_count": 32,
     "metadata": {},
     "output_type": "execute_result"
    }
   ],
   "source": [
    "model_boston.coef_"
   ]
  },
  {
   "cell_type": "code",
   "execution_count": 33,
   "metadata": {},
   "outputs": [],
   "source": [
    "pred = model_boston.predict(boston.data)"
   ]
  },
  {
   "cell_type": "code",
   "execution_count": 34,
   "metadata": {},
   "outputs": [
    {
     "data": {
      "text/plain": [
       "Text(0.5, 1.0, '집값 예측치와 실제 집값의 관계')"
      ]
     },
     "execution_count": 34,
     "metadata": {},
     "output_type": "execute_result"
    },
    {
     "data": {
      "image/png": "[encoded data removed]",
      "text/plain": [
       "<Figure size 432x288 with 1 Axes>"
      ]
     },
     "metadata": {
      "needs_background": "light"
     },
     "output_type": "display_data"
    }
   ],
   "source": [
    "plt.scatter(boston.target, pred)\n",
    "plt.xlabel(\"실제 집값\")\n",
    "plt.ylabel(\"예측 집값\")\n",
    "plt.title(\"집값 예측치와 실제 집값의 관계\")"
   ]
  },
  {
   "cell_type": "code",
   "execution_count": 64,
   "metadata": {},
   "outputs": [
    {
     "data": {
      "text/html": [
       "<div>\n",
       "<style scoped>\n",
       "    .dataframe tbody tr th:only-of-type {\n",
       "        vertical-align: middle;\n",
       "    }\n",
       "\n",
       "    .dataframe tbody tr th {\n",
       "        vertical-align: top;\n",
       "    }\n",
       "\n",
       "    .dataframe thead th {\n",
       "        text-align: right;\n",
       "    }\n",
       "</style>\n",
       "<table border=\"1\" class=\"dataframe\">\n",
       "  <thead>\n",
       "    <tr style=\"text-align: right;\">\n",
       "      <th></th>\n",
       "      <th>CRIM</th>\n",
       "      <th>ZN</th>\n",
       "      <th>INDUS</th>\n",
       "      <th>CHAS</th>\n",
       "      <th>NOX</th>\n",
       "      <th>RM</th>\n",
       "      <th>AGE</th>\n",
       "      <th>DIS</th>\n",
       "      <th>RAD</th>\n",
       "      <th>TAX</th>\n",
       "      <th>PTRATIO</th>\n",
       "      <th>B</th>\n",
       "      <th>LSTAT</th>\n",
       "      <th>MEDV</th>\n",
       "    </tr>\n",
       "  </thead>\n",
       "  <tbody>\n",
       "    <tr>\n",
       "      <th>0</th>\n",
       "      <td>0.00632</td>\n",
       "      <td>18.0</td>\n",
       "      <td>2.31</td>\n",
       "      <td>0.0</td>\n",
       "      <td>0.538</td>\n",
       "      <td>6.575</td>\n",
       "      <td>65.2</td>\n",
       "      <td>4.0900</td>\n",
       "      <td>1.0</td>\n",
       "      <td>296.0</td>\n",
       "      <td>15.3</td>\n",
       "      <td>396.90</td>\n",
       "      <td>4.98</td>\n",
       "      <td>24.0</td>\n",
       "    </tr>\n",
       "    <tr>\n",
       "      <th>1</th>\n",
       "      <td>0.02731</td>\n",
       "      <td>0.0</td>\n",
       "      <td>7.07</td>\n",
       "      <td>0.0</td>\n",
       "      <td>0.469</td>\n",
       "      <td>6.421</td>\n",
       "      <td>78.9</td>\n",
       "      <td>4.9671</td>\n",
       "      <td>2.0</td>\n",
       "      <td>242.0</td>\n",
       "      <td>17.8</td>\n",
       "      <td>396.90</td>\n",
       "      <td>9.14</td>\n",
       "      <td>21.6</td>\n",
       "    </tr>\n",
       "    <tr>\n",
       "      <th>2</th>\n",
       "      <td>0.02729</td>\n",
       "      <td>0.0</td>\n",
       "      <td>7.07</td>\n",
       "      <td>0.0</td>\n",
       "      <td>0.469</td>\n",
       "      <td>7.185</td>\n",
       "      <td>61.1</td>\n",
       "      <td>4.9671</td>\n",
       "      <td>2.0</td>\n",
       "      <td>242.0</td>\n",
       "      <td>17.8</td>\n",
       "      <td>392.83</td>\n",
       "      <td>4.03</td>\n",
       "      <td>34.7</td>\n",
       "    </tr>\n",
       "    <tr>\n",
       "      <th>3</th>\n",
       "      <td>0.03237</td>\n",
       "      <td>0.0</td>\n",
       "      <td>2.18</td>\n",
       "      <td>0.0</td>\n",
       "      <td>0.458</td>\n",
       "      <td>6.998</td>\n",
       "      <td>45.8</td>\n",
       "      <td>6.0622</td>\n",
       "      <td>3.0</td>\n",
       "      <td>222.0</td>\n",
       "      <td>18.7</td>\n",
       "      <td>394.63</td>\n",
       "      <td>2.94</td>\n",
       "      <td>33.4</td>\n",
       "    </tr>\n",
       "    <tr>\n",
       "      <th>4</th>\n",
       "      <td>0.06905</td>\n",
       "      <td>0.0</td>\n",
       "      <td>2.18</td>\n",
       "      <td>0.0</td>\n",
       "      <td>0.458</td>\n",
       "      <td>7.147</td>\n",
       "      <td>54.2</td>\n",
       "      <td>6.0622</td>\n",
       "      <td>3.0</td>\n",
       "      <td>222.0</td>\n",
       "      <td>18.7</td>\n",
       "      <td>396.90</td>\n",
       "      <td>5.33</td>\n",
       "      <td>36.2</td>\n",
       "    </tr>\n",
       "    <tr>\n",
       "      <th>5</th>\n",
       "      <td>0.02985</td>\n",
       "      <td>0.0</td>\n",
       "      <td>2.18</td>\n",
       "      <td>0.0</td>\n",
       "      <td>0.458</td>\n",
       "      <td>6.430</td>\n",
       "      <td>58.7</td>\n",
       "      <td>6.0622</td>\n",
       "      <td>3.0</td>\n",
       "      <td>222.0</td>\n",
       "      <td>18.7</td>\n",
       "      <td>394.12</td>\n",
       "      <td>5.21</td>\n",
       "      <td>28.7</td>\n",
       "    </tr>\n",
       "    <tr>\n",
       "      <th>6</th>\n",
       "      <td>0.08829</td>\n",
       "      <td>12.5</td>\n",
       "      <td>7.87</td>\n",
       "      <td>0.0</td>\n",
       "      <td>0.524</td>\n",
       "      <td>6.012</td>\n",
       "      <td>66.6</td>\n",
       "      <td>5.5605</td>\n",
       "      <td>5.0</td>\n",
       "      <td>311.0</td>\n",
       "      <td>15.2</td>\n",
       "      <td>395.60</td>\n",
       "      <td>12.43</td>\n",
       "      <td>22.9</td>\n",
       "    </tr>\n",
       "    <tr>\n",
       "      <th>7</th>\n",
       "      <td>0.14455</td>\n",
       "      <td>12.5</td>\n",
       "      <td>7.87</td>\n",
       "      <td>0.0</td>\n",
       "      <td>0.524</td>\n",
       "      <td>6.172</td>\n",
       "      <td>96.1</td>\n",
       "      <td>5.9505</td>\n",
       "      <td>5.0</td>\n",
       "      <td>311.0</td>\n",
       "      <td>15.2</td>\n",
       "      <td>396.90</td>\n",
       "      <td>19.15</td>\n",
       "      <td>27.1</td>\n",
       "    </tr>\n",
       "    <tr>\n",
       "      <th>8</th>\n",
       "      <td>0.21124</td>\n",
       "      <td>12.5</td>\n",
       "      <td>7.87</td>\n",
       "      <td>0.0</td>\n",
       "      <td>0.524</td>\n",
       "      <td>5.631</td>\n",
       "      <td>100.0</td>\n",
       "      <td>6.0821</td>\n",
       "      <td>5.0</td>\n",
       "      <td>311.0</td>\n",
       "      <td>15.2</td>\n",
       "      <td>386.63</td>\n",
       "      <td>29.93</td>\n",
       "      <td>16.5</td>\n",
       "    </tr>\n",
       "    <tr>\n",
       "      <th>9</th>\n",
       "      <td>0.17004</td>\n",
       "      <td>12.5</td>\n",
       "      <td>7.87</td>\n",
       "      <td>0.0</td>\n",
       "      <td>0.524</td>\n",
       "      <td>6.004</td>\n",
       "      <td>85.9</td>\n",
       "      <td>6.5921</td>\n",
       "      <td>5.0</td>\n",
       "      <td>311.0</td>\n",
       "      <td>15.2</td>\n",
       "      <td>386.71</td>\n",
       "      <td>17.10</td>\n",
       "      <td>18.9</td>\n",
       "    </tr>\n",
       "  </tbody>\n",
       "</table>\n",
       "</div>"
      ],
      "text/plain": [
       "      CRIM    ZN  INDUS  CHAS    NOX     RM    AGE     DIS  RAD    TAX  \\\n",
       "0  0.00632  18.0   2.31   0.0  0.538  6.575   65.2  4.0900  1.0  296.0   \n",
       "1  0.02731   0.0   7.07   0.0  0.469  6.421   78.9  4.9671  2.0  242.0   \n",
       "2  0.02729   0.0   7.07   0.0  0.469  7.185   61.1  4.9671  2.0  242.0   \n",
       "3  0.03237   0.0   2.18   0.0  0.458  6.998   45.8  6.0622  3.0  222.0   \n",
       "4  0.06905   0.0   2.18   0.0  0.458  7.147   54.2  6.0622  3.0  222.0   \n",
       "5  0.02985   0.0   2.18   0.0  0.458  6.430   58.7  6.0622  3.0  222.0   \n",
       "6  0.08829  12.5   7.87   0.0  0.524  6.012   66.6  5.5605  5.0  311.0   \n",
       "7  0.14455  12.5   7.87   0.0  0.524  6.172   96.1  5.9505  5.0  311.0   \n",
       "8  0.21124  12.5   7.87   0.0  0.524  5.631  100.0  6.0821  5.0  311.0   \n",
       "9  0.17004  12.5   7.87   0.0  0.524  6.004   85.9  6.5921  5.0  311.0   \n",
       "\n",
       "   PTRATIO       B  LSTAT  MEDV  \n",
       "0     15.3  396.90   4.98  24.0  \n",
       "1     17.8  396.90   9.14  21.6  \n",
       "2     17.8  392.83   4.03  34.7  \n",
       "3     18.7  394.63   2.94  33.4  \n",
       "4     18.7  396.90   5.33  36.2  \n",
       "5     18.7  394.12   5.21  28.7  \n",
       "6     15.2  395.60  12.43  22.9  \n",
       "7     15.2  396.90  19.15  27.1  \n",
       "8     15.2  386.63  29.93  16.5  \n",
       "9     15.2  386.71  17.10  18.9  "
      ]
     },
     "execution_count": 64,
     "metadata": {},
     "output_type": "execute_result"
    }
   ],
   "source": [
    "df = pd.DataFrame(boston.data, columns=boston.feature_names)\n",
    "df.head(10)\n",
    "\n",
    "# 종속변수(집값) 추가\n",
    "df[\"MEDV\"] = boston.target\n",
    "df.head(10)"
   ]
  },
  {
   "cell_type": "code",
   "execution_count": 67,
   "metadata": {},
   "outputs": [
    {
     "name": "stderr",
     "output_type": "stream",
     "text": [
      "C:\\Users\\chaek\\anaconda3\\lib\\site-packages\\seaborn\\axisgrid.py:2076: UserWarning: The `size` parameter has been renamed to `height`; please update your code.\n",
      "  warnings.warn(msg, UserWarning)\n"
     ]
    },
    {
     "data": {
      "text/plain": [
       "<seaborn.axisgrid.PairGrid at 0x27a5424d460>"
      ]
     },
     "execution_count": 67,
     "metadata": {},
     "output_type": "execute_result"
    },
    {
     "data": {
      "image/png": "[encoded data removed]",
      "text/plain": [
       "<Figure size 900x900 with 30 Axes>"
      ]
     },
     "metadata": {
      "needs_background": "light"
     },
     "output_type": "display_data"
    }
   ],
   "source": [
    "# seaborn의 pairplot\n",
    "cols = [\"LSTAT\", \"INDUS\", \"NOX\", \"RM\", \"MEDV\"]\n",
    "\n",
    "sns.pairplot(df[cols], size=2.5)\n",
    "\n",
    "# 해석: 방의 개수가 많을수록 집값이 높아진다."
   ]
  },
  {
   "cell_type": "code",
   "execution_count": 68,
   "metadata": {},
   "outputs": [
    {
     "data": {
      "text/plain": [
       "<AxesSubplot:>"
      ]
     },
     "execution_count": 68,
     "metadata": {},
     "output_type": "execute_result"
    },
    {
     "data": {
      "image/png": "[encoded data removed]",
      "text/plain": [
       "<Figure size 432x288 with 2 Axes>"
      ]
     },
     "metadata": {
      "needs_background": "light"
     },
     "output_type": "display_data"
    }
   ],
   "source": [
    "# seaborn의 heatmap\n",
    "\n",
    "cc = np.corrcoef(df[cols].values.T)\n",
    "cc\n",
    "sns.heatmap(cc, yticklabels=cols, xticklabels=cols, annot=True, square=True,\n",
    "           annot_kws={\"size\":15})\n",
    "\n",
    "# 해석 : 방의개수와 집값 상관계수 = 0.7 가장 큰 양의 상관관계"
   ]
  },
  {
   "cell_type": "code",
   "execution_count": 69,
   "metadata": {},
   "outputs": [
    {
     "name": "stdout",
     "output_type": "stream",
     "text": [
      "[[9.10210898]] [-34.67062078]\n",
      "방이 [5]인 주택가격은 약 [10840]달러이다.\n"
     ]
    }
   ],
   "source": [
    "# 방이 5개일 때 집값은 얼마인가?\n",
    "\n",
    "X = df[[\"RM\"]].values\n",
    "y = df[[\"MEDV\"]].values\n",
    "\n",
    "lr = LinearRegression().fit(X, y)\n",
    "print(lr.coef_, lr.intercept_)\n",
    "\n",
    "house_price = lr.predict([[5]])\n",
    "\n",
    "print(\"방이 [%d]인 주택가격은 약 [%.f]달러이다.\" %(5, house_price*1000))"
   ]
  },
  {
   "cell_type": "markdown",
   "metadata": {},
   "source": [
    "## 로지스틱 선형 회귀\n",
    "\n",
    "- 핸즈온 p193-\n",
    "- L2 norm 규제를 사용\n",
    "- C 파라미터를 사용해서 규제의 강도를 설정"
   ]
  },
  {
   "cell_type": "code",
   "execution_count": 70,
   "metadata": {},
   "outputs": [
    {
     "data": {
      "text/plain": [
       "[<matplotlib.lines.Line2D at 0x27a53170d00>]"
      ]
     },
     "execution_count": 70,
     "metadata": {},
     "output_type": "execute_result"
    },
    {
     "data": {
      "image/png": "[encoded data removed]",
      "text/plain": [
       "<Figure size 432x288 with 1 Axes>"
      ]
     },
     "metadata": {
      "needs_background": "light"
     },
     "output_type": "display_data"
    }
   ],
   "source": [
    "# sigmoid 함수 그래프 그리기\n",
    "\n",
    "def sigmoid(x):\n",
    "    result = []\n",
    "    for i in x:\n",
    "        result.append(1/(1+np.exp(-i)))\n",
    "    return result\n",
    "\n",
    "x = np.linspace(-8, 8, 100)\n",
    "sig = sigmoid(x)\n",
    "\n",
    "plt.plot(x, sig) # 2차원 곡선"
   ]
  },
  {
   "cell_type": "code",
   "execution_count": 10,
   "metadata": {},
   "outputs": [
    {
     "data": {
      "text/plain": [
       "[<matplotlib.lines.Line2D at 0x1cf9a0ddf70>]"
      ]
     },
     "execution_count": 10,
     "metadata": {},
     "output_type": "execute_result"
    },
    {
     "data": {
      "image/png": "[encoded data removed]",
      "text/plain": [
       "<Figure size 432x288 with 1 Axes>"
      ]
     },
     "metadata": {
      "needs_background": "light"
     },
     "output_type": "display_data"
    }
   ],
   "source": [
    "x = np.linspace(-5, 5, 1000)\n",
    "plt.plot(x, 1/(1+np.exp(-x)))"
   ]
  },
  {
   "cell_type": "markdown",
   "metadata": {},
   "source": [
    "### 로지스틱 선형 회귀 vs SVM"
   ]
  },
  {
   "cell_type": "code",
   "execution_count": 5,
   "metadata": {},
   "outputs": [],
   "source": [
    "from sklearn.linear_model import LogisticRegression\n",
    "from sklearn.svm import LinearSVC"
   ]
  },
  {
   "cell_type": "code",
   "execution_count": 72,
   "metadata": {
    "scrolled": true
   },
   "outputs": [
    {
     "name": "stderr",
     "output_type": "stream",
     "text": [
      "C:\\Users\\chaek\\anaconda3\\lib\\site-packages\\sklearn\\utils\\deprecation.py:86: FutureWarning: Function make_blobs is deprecated; Please import make_blobs directly from scikit-learn\n",
      "  warnings.warn(msg, category=FutureWarning)\n",
      "C:\\Users\\chaek\\anaconda3\\lib\\site-packages\\sklearn\\svm\\_base.py:985: ConvergenceWarning: Liblinear failed to converge, increase the number of iterations.\n",
      "  warnings.warn(\"Liblinear failed to converge, increase \"\n"
     ]
    },
    {
     "data": {
      "image/png": "[encoded data removed]",
      "text/plain": [
       "<Figure size 720x216 with 2 Axes>"
      ]
     },
     "metadata": {},
     "output_type": "display_data"
    }
   ],
   "source": [
    "X, y = mglearn.datasets.make_forge()\n",
    "_, axes = plt.subplots(1, 2, figsize=(10, 3))\n",
    "\n",
    "for model, ax in zip([LinearSVC(C=1), LogisticRegression(C=1)], axes):\n",
    "    mglearn.discrete_scatter(X[:,0], X[:,1], y , ax=ax)\n",
    "    \n",
    "    clf = model.fit(X, y)\n",
    "    \n",
    "    mglearn.plots.plot_2d_separator(clf, X, ax=ax)\n",
    "    \n",
    "    ax.set_title(\"{}\".format(clf.__class__.__name__))\n",
    "    ax.set_xlabel(\"특성0\")\n",
    "    ax.set_ylabel(\"특성1\")"
   ]
  },
  {
   "cell_type": "code",
   "execution_count": 73,
   "metadata": {},
   "outputs": [
    {
     "data": {
      "image/png": "[encoded data removed]",
      "text/plain": [
       "<Figure size 864x288 with 3 Axes>"
      ]
     },
     "metadata": {},
     "output_type": "display_data"
    }
   ],
   "source": [
    "mglearn.plots.plot_linear_svc_regularization()\n",
    "\n",
    "# 로지스틱 회귀분석에서는 C를 사용(alpha와 반대)\n",
    "# C가 작을수록 규제가 강하다 -> 모델 단순화\n",
    "# C가 클수록 규제가 약하다 -> 모델 복잡"
   ]
  },
  {
   "cell_type": "code",
   "execution_count": 74,
   "metadata": {},
   "outputs": [],
   "source": [
    "from sklearn.datasets import load_breast_cancer\n",
    "\n",
    "cancer = load_breast_cancer()\n",
    "X_train, X_test, y_train, y_test = train_test_split(cancer.data, cancer.target, random_state=42)"
   ]
  },
  {
   "cell_type": "markdown",
   "metadata": {},
   "source": [
    "#### C값에 따른 결과"
   ]
  },
  {
   "cell_type": "code",
   "execution_count": 80,
   "metadata": {},
   "outputs": [
    {
     "name": "stdout",
     "output_type": "stream",
     "text": [
      "훈련 점수 :  0.960093896713615\n",
      "테스트 점수 :  0.965034965034965\n"
     ]
    }
   ],
   "source": [
    "logreg = LogisticRegression(C=1, penalty=\"l2\", max_iter=10000).fit(X_train, y_train) # C=1, penalty=\"l2\"(l2 norm 규제) 가 기본값\n",
    "print(\"훈련 점수 : \", logreg.score(X_train, y_train))\n",
    "print(\"테스트 점수 : \", logreg.score(X_test, y_test)) \n",
    "\n",
    "# 해석 : 테스트 점수가 더 높다? => 과소적합!?"
   ]
  },
  {
   "cell_type": "code",
   "execution_count": 76,
   "metadata": {},
   "outputs": [
    {
     "name": "stdout",
     "output_type": "stream",
     "text": [
      "훈련 점수 :  0.9812206572769953\n",
      "테스트 점수 :  0.965034965034965\n"
     ]
    }
   ],
   "source": [
    "logreg100 = LogisticRegression(C=100, penalty=\"l2\", max_iter=10000).fit(X_train, y_train) # C=1, penalty=\"l2\"(l2 norm 규제) 가 기본값\n",
    "print(\"훈련 점수 : \", logreg100.score(X_train, y_train))\n",
    "print(\"테스트 점수 : \", logreg100.score(X_test, y_test)) \n",
    "\n",
    "# 훈련점수 향상됨 => 해석 : C가 클수록 규제가 약해진다 => 모델이 복잡해져서 과소적합이 해소됨"
   ]
  },
  {
   "cell_type": "code",
   "execution_count": 77,
   "metadata": {},
   "outputs": [
    {
     "name": "stdout",
     "output_type": "stream",
     "text": [
      "훈련 점수 :  0.9460093896713615\n",
      "테스트 점수 :  0.972027972027972\n"
     ]
    }
   ],
   "source": [
    "logreg001 = LogisticRegression(C=0.01, penalty=\"l2\", max_iter=10000).fit(X_train, y_train) # C=1, penalty=\"l2\"(l2 norm 규제) 가 기본값\n",
    "print(\"훈련 점수 : \", logreg001.score(X_train, y_train))\n",
    "print(\"테스트 점수 : \", logreg001.score(X_test, y_test)) \n",
    "\n",
    "# 해석 : C가 작을수록 규제가 강해진다 => 모델이 단순해짐 테스트 점수 향상"
   ]
  },
  {
   "cell_type": "code",
   "execution_count": 81,
   "metadata": {},
   "outputs": [
    {
     "name": "stdout",
     "output_type": "stream",
     "text": [
      "훈련 점수 :  0.960093896713615\n",
      "테스트 점수 :  0.958041958041958\n"
     ]
    }
   ],
   "source": [
    "# 'newton-cg', 'lbfgs', 'sag', and 'saga' handle L2 or no penalty\n",
    "# 'libnear' and 'saga' also handle L1 penalty\n",
    "\n",
    "logreg_l1 = LogisticRegression(C=1, penalty=\"l1\", max_iter=10000, solver=\"liblinear\").fit(X_train, y_train) # solver = saga, liblinear 시 l1규제\n",
    "print(\"훈련 점수 : \", logreg_l1.score(X_train, y_train))\n",
    "print(\"테스트 점수 : \", logreg_l1.score(X_test, y_test))\n",
    "\n",
    "# l1 규제 시 과소적합 좀 줄어듬"
   ]
  },
  {
   "cell_type": "code",
   "execution_count": 82,
   "metadata": {},
   "outputs": [
    {
     "name": "stdout",
     "output_type": "stream",
     "text": [
      "훈련 점수 :  0.9882629107981221\n",
      "테스트 점수 :  0.972027972027972\n"
     ]
    }
   ],
   "source": [
    "logreg100_l1 = LogisticRegression(C=100, penalty=\"l1\", max_iter=10000, solver=\"liblinear\").fit(X_train, y_train) # solver = saga, liblinear 시 l1규제\n",
    "print(\"훈련 점수 : \", logreg100_l1.score(X_train, y_train))\n",
    "print(\"테스트 점수 : \", logreg100_l1.score(X_test, y_test))"
   ]
  },
  {
   "cell_type": "code",
   "execution_count": 83,
   "metadata": {},
   "outputs": [
    {
     "name": "stdout",
     "output_type": "stream",
     "text": [
      "훈련 점수 :  0.9107981220657277\n",
      "테스트 점수 :  0.951048951048951\n"
     ]
    }
   ],
   "source": [
    "logreg001_l1 = LogisticRegression(C=0.01, penalty=\"l1\", max_iter=10000, solver=\"liblinear\").fit(X_train, y_train) # solver = saga, liblinear 시 l1규제\n",
    "print(\"훈련 점수 : \", logreg001_l1.score(X_train, y_train))\n",
    "print(\"테스트 점수 : \", logreg001_l1.score(X_test, y_test))"
   ]
  },
  {
   "cell_type": "markdown",
   "metadata": {},
   "source": [
    "#### KNN, LogisticRegression, LinearSVC의 성능비교"
   ]
  },
  {
   "cell_type": "code",
   "execution_count": 84,
   "metadata": {},
   "outputs": [
    {
     "data": {
      "text/plain": [
       "array([212, 357], dtype=int64)"
      ]
     },
     "execution_count": 84,
     "metadata": {},
     "output_type": "execute_result"
    }
   ],
   "source": [
    "dir(cancer)\n",
    "cancer.data.shape\n",
    "cancer.feature_names\n",
    "cancer.target_names # 'malignant' : 악성, 'benign' : 양성\n",
    "np.bincount(cancer.target) # 212:악성, 357:양성\n",
    "#cancer.target[cancer.target==0].shape # (212,)"
   ]
  },
  {
   "cell_type": "code",
   "execution_count": 91,
   "metadata": {},
   "outputs": [],
   "source": [
    "# LogisticRegression\n",
    "\n",
    "scores = []\n",
    "\n",
    "#X_train, X_test, y_train, y_test = train_test_split(cancer.data, cancer.target)\n",
    "\n",
    "for i in range(10):\n",
    "    X_train, X_test, y_train, y_test = train_test_split(cancer.data, cancer.target)\n",
    "    \n",
    "    model = LogisticRegression(max_iter=10000).fit(X_train, y_train)\n",
    "    scores.append(model.score(X_test, y_test))"
   ]
  },
  {
   "cell_type": "code",
   "execution_count": 92,
   "metadata": {},
   "outputs": [
    {
     "name": "stdout",
     "output_type": "stream",
     "text": [
      "scores =  [0.958041958041958, 0.965034965034965, 0.9300699300699301, 0.9300699300699301, 0.9370629370629371, 0.9300699300699301, 0.972027972027972, 0.9300699300699301, 0.965034965034965, 0.951048951048951]\n",
      "0.9468531468531468\n"
     ]
    }
   ],
   "source": [
    "print(\"scores = \", scores)\n",
    "print(np.mean(np.array(scores)))\n",
    "\n",
    "# LogisticRegression 성능이 가장 좋다"
   ]
  },
  {
   "cell_type": "code",
   "execution_count": 87,
   "metadata": {},
   "outputs": [
    {
     "name": "stderr",
     "output_type": "stream",
     "text": [
      "C:\\Users\\chaek\\anaconda3\\lib\\site-packages\\sklearn\\svm\\_base.py:985: ConvergenceWarning: Liblinear failed to converge, increase the number of iterations.\n",
      "  warnings.warn(\"Liblinear failed to converge, increase \"\n",
      "C:\\Users\\chaek\\anaconda3\\lib\\site-packages\\sklearn\\svm\\_base.py:985: ConvergenceWarning: Liblinear failed to converge, increase the number of iterations.\n",
      "  warnings.warn(\"Liblinear failed to converge, increase \"\n",
      "C:\\Users\\chaek\\anaconda3\\lib\\site-packages\\sklearn\\svm\\_base.py:985: ConvergenceWarning: Liblinear failed to converge, increase the number of iterations.\n",
      "  warnings.warn(\"Liblinear failed to converge, increase \"\n",
      "C:\\Users\\chaek\\anaconda3\\lib\\site-packages\\sklearn\\svm\\_base.py:985: ConvergenceWarning: Liblinear failed to converge, increase the number of iterations.\n",
      "  warnings.warn(\"Liblinear failed to converge, increase \"\n",
      "C:\\Users\\chaek\\anaconda3\\lib\\site-packages\\sklearn\\svm\\_base.py:985: ConvergenceWarning: Liblinear failed to converge, increase the number of iterations.\n",
      "  warnings.warn(\"Liblinear failed to converge, increase \"\n",
      "C:\\Users\\chaek\\anaconda3\\lib\\site-packages\\sklearn\\svm\\_base.py:985: ConvergenceWarning: Liblinear failed to converge, increase the number of iterations.\n",
      "  warnings.warn(\"Liblinear failed to converge, increase \"\n",
      "C:\\Users\\chaek\\anaconda3\\lib\\site-packages\\sklearn\\svm\\_base.py:985: ConvergenceWarning: Liblinear failed to converge, increase the number of iterations.\n",
      "  warnings.warn(\"Liblinear failed to converge, increase \"\n",
      "C:\\Users\\chaek\\anaconda3\\lib\\site-packages\\sklearn\\svm\\_base.py:985: ConvergenceWarning: Liblinear failed to converge, increase the number of iterations.\n",
      "  warnings.warn(\"Liblinear failed to converge, increase \"\n",
      "C:\\Users\\chaek\\anaconda3\\lib\\site-packages\\sklearn\\svm\\_base.py:985: ConvergenceWarning: Liblinear failed to converge, increase the number of iterations.\n",
      "  warnings.warn(\"Liblinear failed to converge, increase \"\n",
      "C:\\Users\\chaek\\anaconda3\\lib\\site-packages\\sklearn\\svm\\_base.py:985: ConvergenceWarning: Liblinear failed to converge, increase the number of iterations.\n",
      "  warnings.warn(\"Liblinear failed to converge, increase \"\n"
     ]
    }
   ],
   "source": [
    "# LinearSVC\n",
    "\n",
    "scores = []\n",
    "\n",
    "X_train, X_test, y_train, y_test = train_test_split(cancer.data, cancer.target)\n",
    "    \n",
    "for i in range(10):\n",
    "    model = LinearSVC(max_iter=10000).fit(X_train, y_train)\n",
    "    scores.append(model.score(X_test, y_test))"
   ]
  },
  {
   "cell_type": "code",
   "execution_count": 88,
   "metadata": {},
   "outputs": [
    {
     "name": "stdout",
     "output_type": "stream",
     "text": [
      "scores =  [0.9370629370629371, 0.9300699300699301, 0.9300699300699301, 0.9300699300699301, 0.9300699300699301, 0.9230769230769231, 0.9370629370629371, 0.7902097902097902, 0.8881118881118881, 0.9020979020979021]\n",
      "0.9097902097902099\n"
     ]
    }
   ],
   "source": [
    "print(\"scores = \", scores)\n",
    "print(np.mean(np.array(scores)))\n",
    "\n",
    "# LinearSVC 성능이 가장 낮다"
   ]
  },
  {
   "cell_type": "code",
   "execution_count": 58,
   "metadata": {},
   "outputs": [],
   "source": [
    "# KNN\n",
    "\n",
    "from sklearn.neighbors import KNeighborsClassifier\n",
    "\n",
    "scores = []\n",
    "\n",
    "X_train, X_test, y_train, y_test = train_test_split(cancer.data, cancer.target)\n",
    "    \n",
    "for i in range(10):\n",
    "    model = KNeighborsClassifier(n_neighbors=5).fit(X_train, y_train)\n",
    "    scores.append(model.score(X_test, y_test))"
   ]
  },
  {
   "cell_type": "code",
   "execution_count": 59,
   "metadata": {},
   "outputs": [
    {
     "name": "stdout",
     "output_type": "stream",
     "text": [
      "scores =  [0.9230769230769231, 0.9230769230769231, 0.9230769230769231, 0.9230769230769231, 0.9230769230769231, 0.9230769230769231, 0.9230769230769231, 0.9230769230769231, 0.9230769230769231, 0.9230769230769231]\n",
      "0.9230769230769231\n"
     ]
    }
   ],
   "source": [
    "print(\"scores = \", scores)\n",
    "print(np.mean(np.array(scores)))\n",
    "\n",
    "# KNN 계속 비슷한 성능 나타냄"
   ]
  },
  {
   "cell_type": "code",
   "execution_count": 76,
   "metadata": {},
   "outputs": [
    {
     "name": "stdout",
     "output_type": "stream",
     "text": [
      "scores =  0.951048951048951\n"
     ]
    }
   ],
   "source": [
    "# LogisticRegression\n",
    "\n",
    "X_train, X_test, y_train, y_test = train_test_split(cancer.data, cancer.target, random_state=0)\n",
    "    \n",
    "model = LogisticRegression(max_iter=10000).fit(X_train, y_train)\n",
    "scores = model.score(X_test, y_test)\n",
    "\n",
    "print(\"scores = \", scores)"
   ]
  },
  {
   "cell_type": "code",
   "execution_count": 74,
   "metadata": {},
   "outputs": [
    {
     "name": "stderr",
     "output_type": "stream",
     "text": [
      "D:\\anaconda3\\lib\\site-packages\\sklearn\\svm\\_base.py:976: ConvergenceWarning: Liblinear failed to converge, increase the number of iterations.\n",
      "  warnings.warn(\"Liblinear failed to converge, increase \"\n",
      "D:\\anaconda3\\lib\\site-packages\\sklearn\\svm\\_base.py:976: ConvergenceWarning: Liblinear failed to converge, increase the number of iterations.\n",
      "  warnings.warn(\"Liblinear failed to converge, increase \"\n",
      "D:\\anaconda3\\lib\\site-packages\\sklearn\\svm\\_base.py:976: ConvergenceWarning: Liblinear failed to converge, increase the number of iterations.\n",
      "  warnings.warn(\"Liblinear failed to converge, increase \"\n",
      "D:\\anaconda3\\lib\\site-packages\\sklearn\\svm\\_base.py:976: ConvergenceWarning: Liblinear failed to converge, increase the number of iterations.\n",
      "  warnings.warn(\"Liblinear failed to converge, increase \"\n",
      "D:\\anaconda3\\lib\\site-packages\\sklearn\\svm\\_base.py:976: ConvergenceWarning: Liblinear failed to converge, increase the number of iterations.\n",
      "  warnings.warn(\"Liblinear failed to converge, increase \"\n",
      "D:\\anaconda3\\lib\\site-packages\\sklearn\\svm\\_base.py:976: ConvergenceWarning: Liblinear failed to converge, increase the number of iterations.\n",
      "  warnings.warn(\"Liblinear failed to converge, increase \"\n",
      "D:\\anaconda3\\lib\\site-packages\\sklearn\\svm\\_base.py:976: ConvergenceWarning: Liblinear failed to converge, increase the number of iterations.\n",
      "  warnings.warn(\"Liblinear failed to converge, increase \"\n",
      "D:\\anaconda3\\lib\\site-packages\\sklearn\\svm\\_base.py:976: ConvergenceWarning: Liblinear failed to converge, increase the number of iterations.\n",
      "  warnings.warn(\"Liblinear failed to converge, increase \"\n",
      "D:\\anaconda3\\lib\\site-packages\\sklearn\\svm\\_base.py:976: ConvergenceWarning: Liblinear failed to converge, increase the number of iterations.\n",
      "  warnings.warn(\"Liblinear failed to converge, increase \"\n"
     ]
    },
    {
     "name": "stdout",
     "output_type": "stream",
     "text": [
      "scores =  [0.951048951048951, 0.8531468531468531, 0.951048951048951, 0.951048951048951, 0.8671328671328671, 0.9370629370629371, 0.951048951048951, 0.9370629370629371, 0.9370629370629371, 0.8811188811188811]\n",
      "0.9216783216783216\n"
     ]
    },
    {
     "name": "stderr",
     "output_type": "stream",
     "text": [
      "D:\\anaconda3\\lib\\site-packages\\sklearn\\svm\\_base.py:976: ConvergenceWarning: Liblinear failed to converge, increase the number of iterations.\n",
      "  warnings.warn(\"Liblinear failed to converge, increase \"\n"
     ]
    }
   ],
   "source": [
    "# LinearSVC : 실행 시마다 스코어 달라짐(튜닝 하기 어려움)\n",
    "scores = []\n",
    "\n",
    "X_train, X_test, y_train, y_test = train_test_split(cancer.data, cancer.target, random_state=0)\n",
    "\n",
    "for i in range(10):\n",
    "    model = LinearSVC(max_iter=10000).fit(X_train, y_train)\n",
    "    scores.append(model.score(X_test, y_test))\n",
    "    \n",
    "print(\"scores = \", scores)\n",
    "print(np.mean(np.array(scores)))"
   ]
  },
  {
   "cell_type": "code",
   "execution_count": 77,
   "metadata": {},
   "outputs": [
    {
     "name": "stdout",
     "output_type": "stream",
     "text": [
      "scores =  0.9370629370629371\n"
     ]
    }
   ],
   "source": [
    "# KNN\n",
    "\n",
    "from sklearn.neighbors import KNeighborsClassifier\n",
    "\n",
    "X_train, X_test, y_train, y_test = train_test_split(cancer.data, cancer.target, random_state=0)\n",
    "    \n",
    "model = KNeighborsClassifier(n_neighbors=5).fit(X_train, y_train)\n",
    "scores = model.score(X_test, y_test)\n",
    "\n",
    "print(\"scores = \", scores)"
   ]
  },
  {
   "cell_type": "code",
   "execution_count": 93,
   "metadata": {},
   "outputs": [
    {
     "data": {
      "text/plain": [
       "([<matplotlib.axis.XTick at 0x27a52fda9d0>,\n",
       "  <matplotlib.axis.XTick at 0x27a52fda640>,\n",
       "  <matplotlib.axis.XTick at 0x27a522902b0>,\n",
       "  <matplotlib.axis.XTick at 0x27a533cad30>,\n",
       "  <matplotlib.axis.XTick at 0x27a533b94c0>,\n",
       "  <matplotlib.axis.XTick at 0x27a533b9c10>,\n",
       "  <matplotlib.axis.XTick at 0x27a533d1430>,\n",
       "  <matplotlib.axis.XTick at 0x27a533b9400>,\n",
       "  <matplotlib.axis.XTick at 0x27a533d11c0>,\n",
       "  <matplotlib.axis.XTick at 0x27a533d10a0>,\n",
       "  <matplotlib.axis.XTick at 0x27a533b35e0>,\n",
       "  <matplotlib.axis.XTick at 0x27a533b3d30>,\n",
       "  <matplotlib.axis.XTick at 0x27a533c04c0>,\n",
       "  <matplotlib.axis.XTick at 0x27a533b3d90>,\n",
       "  <matplotlib.axis.XTick at 0x27a533d1850>,\n",
       "  <matplotlib.axis.XTick at 0x27a533c0370>,\n",
       "  <matplotlib.axis.XTick at 0x27a533cf1f0>,\n",
       "  <matplotlib.axis.XTick at 0x27a533cf940>,\n",
       "  <matplotlib.axis.XTick at 0x27a533bb0d0>,\n",
       "  <matplotlib.axis.XTick at 0x27a533bb820>,\n",
       "  <matplotlib.axis.XTick at 0x27a533cf8e0>,\n",
       "  <matplotlib.axis.XTick at 0x27a533d1a60>,\n",
       "  <matplotlib.axis.XTick at 0x27a533bbd30>,\n",
       "  <matplotlib.axis.XTick at 0x27a533a94c0>,\n",
       "  <matplotlib.axis.XTick at 0x27a533a9c10>,\n",
       "  <matplotlib.axis.XTick at 0x27a52c0a3a0>,\n",
       "  <matplotlib.axis.XTick at 0x27a533a9e20>,\n",
       "  <matplotlib.axis.XTick at 0x27a533bbd00>,\n",
       "  <matplotlib.axis.XTick at 0x27a52c0abe0>,\n",
       "  <matplotlib.axis.XTick at 0x27a52c200d0>],\n",
       " [Text(1, 0, 'mean radius'),\n",
       "  Text(2, 0, 'mean texture'),\n",
       "  Text(3, 0, 'mean perimeter'),\n",
       "  Text(4, 0, 'mean area'),\n",
       "  Text(5, 0, 'mean smoothness'),\n",
       "  Text(6, 0, 'mean compactness'),\n",
       "  Text(7, 0, 'mean concavity'),\n",
       "  Text(8, 0, 'mean concave points'),\n",
       "  Text(9, 0, 'mean symmetry'),\n",
       "  Text(10, 0, 'mean fractal dimension'),\n",
       "  Text(11, 0, 'radius error'),\n",
       "  Text(12, 0, 'texture error'),\n",
       "  Text(13, 0, 'perimeter error'),\n",
       "  Text(14, 0, 'area error'),\n",
       "  Text(15, 0, 'smoothness error'),\n",
       "  Text(16, 0, 'compactness error'),\n",
       "  Text(17, 0, 'concavity error'),\n",
       "  Text(18, 0, 'concave points error'),\n",
       "  Text(19, 0, 'symmetry error'),\n",
       "  Text(20, 0, 'fractal dimension error'),\n",
       "  Text(21, 0, 'worst radius'),\n",
       "  Text(22, 0, 'worst texture'),\n",
       "  Text(23, 0, 'worst perimeter'),\n",
       "  Text(24, 0, 'worst area'),\n",
       "  Text(25, 0, 'worst smoothness'),\n",
       "  Text(26, 0, 'worst compactness'),\n",
       "  Text(27, 0, 'worst concavity'),\n",
       "  Text(28, 0, 'worst concave points'),\n",
       "  Text(29, 0, 'worst symmetry'),\n",
       "  Text(30, 0, 'worst fractal dimension')])"
      ]
     },
     "execution_count": 93,
     "metadata": {},
     "output_type": "execute_result"
    },
    {
     "data": {
      "image/png": "[encoded data removed]",
      "text/plain": [
       "<Figure size 720x576 with 1 Axes>"
      ]
     },
     "metadata": {
      "needs_background": "light"
     },
     "output_type": "display_data"
    }
   ],
   "source": [
    "# 이상치 검출을 위한 boxplot\n",
    "plt.figure(figsize=(10, 8))\n",
    "plt.boxplot(cancer.data)\n",
    "plt.xticks(np.arange(30)+1, cancer.feature_names, rotation=90)\n",
    "\n",
    "# 이상치가 존재하면 위 알고리즘 사용 시 성능 차이가 심하다(특히 SVM)"
   ]
  },
  {
   "cell_type": "code",
   "execution_count": 94,
   "metadata": {},
   "outputs": [],
   "source": [
    "### standardization\n",
    "\n",
    "# 속성별 평균\n",
    "m = cancer.data.mean(axis = 0)\n",
    "\n",
    "# 속성별 표준변차\n",
    "s = cancer.data.std(axis = 0)\n",
    "\n",
    "data1 = (cancer.data - m) / s"
   ]
  },
  {
   "cell_type": "code",
   "execution_count": 95,
   "metadata": {},
   "outputs": [
    {
     "data": {
      "text/plain": [
       "([<matplotlib.axis.XTick at 0x27a557d03a0>,\n",
       "  <matplotlib.axis.XTick at 0x27a557d0370>,\n",
       "  <matplotlib.axis.XTick at 0x27a557fdc70>,\n",
       "  <matplotlib.axis.XTick at 0x27a52fd23a0>,\n",
       "  <matplotlib.axis.XTick at 0x27a52fd2af0>,\n",
       "  <matplotlib.axis.XTick at 0x27a5284f280>,\n",
       "  <matplotlib.axis.XTick at 0x27a52fd2790>,\n",
       "  <matplotlib.axis.XTick at 0x27a5284f8b0>,\n",
       "  <matplotlib.axis.XTick at 0x27a5283b100>,\n",
       "  <matplotlib.axis.XTick at 0x27a5283b790>,\n",
       "  <matplotlib.axis.XTick at 0x27a5283bee0>,\n",
       "  <matplotlib.axis.XTick at 0x27a52865670>,\n",
       "  <matplotlib.axis.XTick at 0x27a5283bd90>,\n",
       "  <matplotlib.axis.XTick at 0x27a5284fbe0>,\n",
       "  <matplotlib.axis.XTick at 0x27a52865640>,\n",
       "  <matplotlib.axis.XTick at 0x27a52833520>,\n",
       "  <matplotlib.axis.XTick at 0x27a52833670>,\n",
       "  <matplotlib.axis.XTick at 0x27a5285e310>,\n",
       "  <matplotlib.axis.XTick at 0x27a5285ea60>,\n",
       "  <matplotlib.axis.XTick at 0x27a52833d30>,\n",
       "  <matplotlib.axis.XTick at 0x27a5284fb80>,\n",
       "  <matplotlib.axis.XTick at 0x27a4d196070>,\n",
       "  <matplotlib.axis.XTick at 0x27a4d196700>,\n",
       "  <matplotlib.axis.XTick at 0x27a4d196e50>,\n",
       "  <matplotlib.axis.XTick at 0x27a4d19b5e0>,\n",
       "  <matplotlib.axis.XTick at 0x27a4d196e20>,\n",
       "  <matplotlib.axis.XTick at 0x27a5285ea90>,\n",
       "  <matplotlib.axis.XTick at 0x27a4d19b7c0>,\n",
       "  <matplotlib.axis.XTick at 0x27a4d1b7310>,\n",
       "  <matplotlib.axis.XTick at 0x27a4d1b7a60>],\n",
       " [Text(1, 0, 'mean radius'),\n",
       "  Text(2, 0, 'mean texture'),\n",
       "  Text(3, 0, 'mean perimeter'),\n",
       "  Text(4, 0, 'mean area'),\n",
       "  Text(5, 0, 'mean smoothness'),\n",
       "  Text(6, 0, 'mean compactness'),\n",
       "  Text(7, 0, 'mean concavity'),\n",
       "  Text(8, 0, 'mean concave points'),\n",
       "  Text(9, 0, 'mean symmetry'),\n",
       "  Text(10, 0, 'mean fractal dimension'),\n",
       "  Text(11, 0, 'radius error'),\n",
       "  Text(12, 0, 'texture error'),\n",
       "  Text(13, 0, 'perimeter error'),\n",
       "  Text(14, 0, 'area error'),\n",
       "  Text(15, 0, 'smoothness error'),\n",
       "  Text(16, 0, 'compactness error'),\n",
       "  Text(17, 0, 'concavity error'),\n",
       "  Text(18, 0, 'concave points error'),\n",
       "  Text(19, 0, 'symmetry error'),\n",
       "  Text(20, 0, 'fractal dimension error'),\n",
       "  Text(21, 0, 'worst radius'),\n",
       "  Text(22, 0, 'worst texture'),\n",
       "  Text(23, 0, 'worst perimeter'),\n",
       "  Text(24, 0, 'worst area'),\n",
       "  Text(25, 0, 'worst smoothness'),\n",
       "  Text(26, 0, 'worst compactness'),\n",
       "  Text(27, 0, 'worst concavity'),\n",
       "  Text(28, 0, 'worst concave points'),\n",
       "  Text(29, 0, 'worst symmetry'),\n",
       "  Text(30, 0, 'worst fractal dimension')])"
      ]
     },
     "execution_count": 95,
     "metadata": {},
     "output_type": "execute_result"
    },
    {
     "data": {
      "image/png": "[encoded data removed]",
      "text/plain": [
       "<Figure size 720x576 with 1 Axes>"
      ]
     },
     "metadata": {
      "needs_background": "light"
     },
     "output_type": "display_data"
    }
   ],
   "source": [
    "plt.figure(figsize=(10, 8))\n",
    "plt.boxplot(data1)\n",
    "plt.xticks(np.arange(30)+1, cancer.feature_names, rotation=90)"
   ]
  },
  {
   "cell_type": "code",
   "execution_count": 96,
   "metadata": {},
   "outputs": [
    {
     "name": "stdout",
     "output_type": "stream",
     "text": [
      "scores =  0.965034965034965\n"
     ]
    }
   ],
   "source": [
    "# LogisticRegression에 표준화 적용\n",
    "X_train, X_test, y_train, y_test = train_test_split(data1, cancer.target, random_state=0)\n",
    "    \n",
    "model = LogisticRegression(max_iter=10000).fit(X_train, y_train)\n",
    "scores = model.score(X_test, y_test)\n",
    "\n",
    "print(\"scores = \", scores)\n",
    "\n",
    "# 표준화 후 1~2프로 성능 향상됨"
   ]
  },
  {
   "cell_type": "code",
   "execution_count": 97,
   "metadata": {},
   "outputs": [
    {
     "name": "stdout",
     "output_type": "stream",
     "text": [
      "scores =  [0.9440559440559441, 0.9440559440559441, 0.9440559440559441, 0.9440559440559441, 0.9440559440559441, 0.9440559440559441, 0.9440559440559441, 0.9440559440559441, 0.9440559440559441, 0.9440559440559441]\n",
      "0.944055944055944\n"
     ]
    }
   ],
   "source": [
    "# LinearSVC에 표준화 적용\n",
    "scores = []\n",
    "\n",
    "X_train, X_test, y_train, y_test = train_test_split(data1, cancer.target, random_state=0)\n",
    "\n",
    "for i in range(10):\n",
    "    model = LinearSVC(max_iter=10000).fit(X_train, y_train)\n",
    "    scores.append(model.score(X_test, y_test))\n",
    "    \n",
    "print(\"scores = \", scores)\n",
    "print(np.mean(np.array(scores)))\n",
    "\n",
    "# 표준화 후 SVM도 성능 향상됨"
   ]
  },
  {
   "cell_type": "code",
   "execution_count": 103,
   "metadata": {},
   "outputs": [
    {
     "name": "stdout",
     "output_type": "stream",
     "text": [
      "scores =  0.951048951048951\n"
     ]
    }
   ],
   "source": [
    "# KNN에 표준화 적용\n",
    "\n",
    "from sklearn.neighbors import KNeighborsClassifier\n",
    "\n",
    "X_train, X_test, y_train, y_test = train_test_split(data1, cancer.target, random_state=0)\n",
    "    \n",
    "model = KNeighborsClassifier(n_neighbors=5).fit(X_train, y_train)\n",
    "scores = model.score(X_test, y_test)\n",
    "\n",
    "print(\"scores = \", scores)"
   ]
  },
  {
   "cell_type": "code",
   "execution_count": 91,
   "metadata": {},
   "outputs": [
    {
     "name": "stdout",
     "output_type": "stream",
     "text": [
      "scores =  0.951048951048951\n"
     ]
    }
   ],
   "source": [
    "# LogisticRegression에 C=100/0.01으로 설정\n",
    "X_train, X_test, y_train, y_test = train_test_split(data1, cancer.target, random_state=0)\n",
    "    \n",
    "model = LogisticRegression(C=0.01, max_iter=10000).fit(X_train, y_train)\n",
    "scores = model.score(X_test, y_test)\n",
    "\n",
    "print(\"scores = \", scores)\n",
    "\n",
    "# 성능 떨어짐"
   ]
  },
  {
   "cell_type": "code",
   "execution_count": 105,
   "metadata": {},
   "outputs": [
    {
     "name": "stdout",
     "output_type": "stream",
     "text": [
      "scores =  [0.965034965034965, 0.965034965034965, 0.965034965034965, 0.965034965034965, 0.965034965034965, 0.965034965034965, 0.965034965034965, 0.965034965034965, 0.965034965034965, 0.965034965034965]\n",
      "0.965034965034965\n"
     ]
    }
   ],
   "source": [
    "# LinearSVC에 C=100/0.01으로 설정\n",
    "scores = []\n",
    "\n",
    "X_train, X_test, y_train, y_test = train_test_split(data1, cancer.target)\n",
    "\n",
    "for i in range(10):\n",
    "    model = LinearSVC(C=0.01,max_iter=10000).fit(X_train, y_train)\n",
    "    scores.append(model.score(X_test, y_test))\n",
    "    \n",
    "print(\"scores = \", scores)\n",
    "print(np.mean(np.array(scores)))\n",
    "\n",
    "# C가 0.01 작아지면 성능 향상됨=>가장 좋은 성능을 보여줌"
   ]
  },
  {
   "cell_type": "markdown",
   "metadata": {},
   "source": [
    "### 다중 클래스 분류\n",
    "\n",
    "- 핸즈온 p145-\n",
    "- Sklearn 알고리즘들(SVM)은 이진 클래스 분류만 가능 (다중 분류하려면 이진 분류 함수를 여러번 써야 한다)\n",
    "- 단, multinomial Logistic Regression(= Softmax regression), SGD 분류기, 랜덤 포레스트 분류기, Naive Bayes은 다중 클래스 분류 지원"
   ]
  },
  {
   "cell_type": "code",
   "execution_count": 3,
   "metadata": {},
   "outputs": [
    {
     "data": {
      "text/plain": [
       "[<matplotlib.lines.Line2D at 0x1b17c81adf0>,\n",
       " <matplotlib.lines.Line2D at 0x1b17ced6130>,\n",
       " <matplotlib.lines.Line2D at 0x1b17ced64c0>]"
      ]
     },
     "execution_count": 3,
     "metadata": {},
     "output_type": "execute_result"
    },
    {
     "data": {
      "image/png": "[encoded data removed]",
      "text/plain": [
       "<Figure size 432x288 with 1 Axes>"
      ]
     },
     "metadata": {
      "needs_background": "light"
     },
     "output_type": "display_data"
    }
   ],
   "source": [
    "from sklearn.datasets import make_blobs\n",
    "\n",
    "X, y = make_blobs(random_state=42)\n",
    "mglearn.discrete_scatter(X[:, 0], X[:, 1], y)"
   ]
  },
  {
   "cell_type": "code",
   "execution_count": 6,
   "metadata": {},
   "outputs": [
    {
     "name": "stdout",
     "output_type": "stream",
     "text": [
      "[[-0.17492463  0.23140749]\n",
      " [ 0.47621286 -0.06937654]\n",
      " [-0.18914295 -0.20399592]]\n",
      "[-1.07745421  0.131407   -0.08604807]\n"
     ]
    }
   ],
   "source": [
    "linear_svc = LinearSVC().fit(X, y)\n",
    "print(linear_svc.coef_)\n",
    "print(linear_svc.intercept_)\n",
    "#print(linear_svc.coef_[0])\n",
    "#print(linear_svc.coef_[1])\n",
    "#print(linear_svc.coef_.shape)\n",
    "#print(linear_svc.intercept_.shape)"
   ]
  },
  {
   "cell_type": "code",
   "execution_count": 117,
   "metadata": {},
   "outputs": [
    {
     "data": {
      "image/png": "[encoded data removed]",
      "text/plain": [
       "<Figure size 432x288 with 1 Axes>"
      ]
     },
     "metadata": {},
     "output_type": "display_data"
    }
   ],
   "source": [
    "# 이진 분류 3번 사용해서 분류\n",
    "mglearn.plots.plot_2d_classification(linear_svc, X, fill=True, alpha=.7) # 가운데 영역도 분류하자!\n",
    "mglearn.discrete_scatter(X[:,0], X[:,1], y)\n",
    "line = np.linspace(-15, 15)\n",
    "\n",
    "for coef, intercept, color in zip(linear_svc.coef_, linear_svc.intercept_, mglearn.cm3.colors):\n",
    "    plt.plot(line, -(line*coef[0] + intercept)/coef[1], c=color)"
   ]
  },
  {
   "cell_type": "markdown",
   "metadata": {},
   "source": [
    "## 적합도 검정(성능 측정)\n",
    "\n",
    "- 핸즈온 p131- 3.3 성능 측정\n",
    "\n",
    "- Accuracy : 정확도 (모든 데이터 중에서)\n",
    "    - (TN + TP) / (TN + FP+FN+TP)\n",
    "- Precision : 정밀도 (예측한 값이 양성인 데이터 중에서 실제 값이 양성과 같은 데이터의 비율)\n",
    "    - TP / (FP + TP)\n",
    "- Recall : 재현율 (실제 값이 양성인 데이터 중에서 예측과 실제값이 양성으로 일치한 비율)\n",
    "    - TP / (FN + TP)\n",
    "- F1 Score\n",
    "    - Precision과 Recall의 조화 평균\n",
    "    \n",
    "![nn](data/confusionmatrix.jpg)\n",
    "\n",
    "- ROC 곡선, AUC (p141)\n",
    "    - 이진 분류에서만 사용 가능"
   ]
  },
  {
   "cell_type": "code",
   "execution_count": 3,
   "metadata": {},
   "outputs": [
    {
     "data": {
      "text/plain": [
       "<matplotlib.axes._subplots.AxesSubplot at 0x24ff35dc160>"
      ]
     },
     "execution_count": 3,
     "metadata": {},
     "output_type": "execute_result"
    },
    {
     "data": {
      "image/png": "[encoded data removed]",
      "text/plain": [
       "<Figure size 360x216 with 2 Axes>"
      ]
     },
     "metadata": {
      "needs_background": "light"
     },
     "output_type": "display_data"
    }
   ],
   "source": [
    "arr = [[5, 0, 0, 0],\n",
    "[0, 10, 0, 0],\n",
    "[0, 0, 15, 0],\n",
    "[0, 0, 0, 5]]\n",
    "\n",
    "df_cm = pd.DataFrame(arr, index=[i for i in \"ABCD\"], columns = [i for i in \"ABCD\"])\n",
    "df_cm\n",
    "plt.figure(figsize=(5,3))\n",
    "sns.heatmap(df_cm, annot=True)"
   ]
  },
  {
   "cell_type": "code",
   "execution_count": 7,
   "metadata": {},
   "outputs": [
    {
     "data": {
      "text/plain": [
       "<AxesSubplot:>"
      ]
     },
     "execution_count": 7,
     "metadata": {},
     "output_type": "execute_result"
    },
    {
     "data": {
      "image/png": "[encoded data removed]",
      "text/plain": [
       "<Figure size 360x216 with 2 Axes>"
      ]
     },
     "metadata": {
      "needs_background": "light"
     },
     "output_type": "display_data"
    }
   ],
   "source": [
    "arr = [[9, 1, 0, 0],\n",
    "[1, 15, 3, 1],\n",
    "[5, 0, 24, 1],\n",
    "[0, 4, 1, 15]]\n",
    "\n",
    "df_cm = pd.DataFrame(arr, index=[i for i in \"ABCD\"], columns = [i for i in \"ABCD\"])\n",
    "df_cm\n",
    "plt.figure(figsize=(5,3))\n",
    "sns.heatmap(df_cm, annot=True)"
   ]
  },
  {
   "cell_type": "code",
   "execution_count": 8,
   "metadata": {},
   "outputs": [
    {
     "data": {
      "text/plain": [
       "<AxesSubplot:>"
      ]
     },
     "execution_count": 8,
     "metadata": {},
     "output_type": "execute_result"
    },
    {
     "data": {
      "image/png": "[encoded data removed]",
      "text/plain": [
       "<Figure size 360x216 with 2 Axes>"
      ]
     },
     "metadata": {
      "needs_background": "light"
     },
     "output_type": "display_data"
    }
   ],
   "source": [
    "# 정규화\n",
    "\n",
    "total = np.sum(arr, axis=1)\n",
    "total\n",
    "arr = arr / total[:, None]\n",
    "arr\n",
    "\n",
    "df_cm = pd.DataFrame(arr, index=[i for i in \"ABCD\"], columns = [i for i in \"ABCD\"])\n",
    "df_cm\n",
    "plt.figure(figsize=(5,3))\n",
    "sns.heatmap(df_cm, annot=True)"
   ]
  },
  {
   "cell_type": "code",
   "execution_count": 9,
   "metadata": {},
   "outputs": [],
   "source": [
    "from sklearn.metrics import confusion_matrix"
   ]
  },
  {
   "cell_type": "code",
   "execution_count": 10,
   "metadata": {},
   "outputs": [
    {
     "data": {
      "text/plain": [
       "array([[2, 0, 0],\n",
       "       [0, 0, 1],\n",
       "       [1, 0, 2]], dtype=int64)"
      ]
     },
     "execution_count": 10,
     "metadata": {},
     "output_type": "execute_result"
    }
   ],
   "source": [
    "# 다중 분류\n",
    "y_true = [2, 0, 2, 2, 0, 1]\n",
    "y_pred = [0, 0, 2, 2, 0, 2]\n",
    "\n",
    "confusion_matrix(y_true, y_pred)"
   ]
  },
  {
   "cell_type": "code",
   "execution_count": 11,
   "metadata": {},
   "outputs": [
    {
     "data": {
      "text/plain": [
       "array([[2, 0],\n",
       "       [1, 3]], dtype=int64)"
      ]
     },
     "execution_count": 11,
     "metadata": {},
     "output_type": "execute_result"
    }
   ],
   "source": [
    "# 이진 분류\n",
    "y_true = [1, 0, 1, 1, 0, 1]\n",
    "y_pred = [0, 0, 1, 1, 0, 1]\n",
    "\n",
    "confusion_matrix(y_true, y_pred)"
   ]
  },
  {
   "cell_type": "code",
   "execution_count": 13,
   "metadata": {},
   "outputs": [
    {
     "name": "stdout",
     "output_type": "stream",
     "text": [
      "              precision    recall  f1-score   support\n",
      "\n",
      "     class 0       0.67      1.00      0.80         2\n",
      "     class 1       1.00      0.75      0.86         4\n",
      "\n",
      "    accuracy                           0.83         6\n",
      "   macro avg       0.83      0.88      0.83         6\n",
      "weighted avg       0.89      0.83      0.84         6\n",
      "\n"
     ]
    }
   ],
   "source": [
    "# precision, recall, f1-score 확인\n",
    "from sklearn.metrics import classification_report\n",
    "\n",
    "y_true = [1, 0, 1, 1, 0, 1]\n",
    "y_pred = [0, 0, 1, 1, 0, 1]\n",
    "\n",
    "print(classification_report(y_true, y_pred, target_names=[\"class 0\", \"class 1\"]))"
   ]
  },
  {
   "cell_type": "markdown",
   "metadata": {},
   "source": [
    "### ROC curve(with AUC)\n",
    "\n",
    "- 이진 분류에서 사용"
   ]
  },
  {
   "cell_type": "code",
   "execution_count": 14,
   "metadata": {},
   "outputs": [],
   "source": [
    "from sklearn.datasets import make_classification\n",
    "from sklearn.linear_model import LogisticRegression\n",
    "from sklearn.metrics import confusion_matrix\n",
    "from sklearn.metrics import classification_report"
   ]
  },
  {
   "cell_type": "code",
   "execution_count": 15,
   "metadata": {},
   "outputs": [
    {
     "data": {
      "text/plain": [
       "array([0, 1, 1, 1, 1, 1, 0, 1, 1, 0])"
      ]
     },
     "execution_count": 15,
     "metadata": {},
     "output_type": "execute_result"
    }
   ],
   "source": [
    "X, y = make_classification(n_samples=1000, n_features=2, n_informative=2, n_redundant=0, random_state=0)\n",
    "X[:10, :]\n",
    "y[:10]"
   ]
  },
  {
   "cell_type": "code",
   "execution_count": 16,
   "metadata": {},
   "outputs": [],
   "source": [
    "model = LogisticRegression().fit(X, y)"
   ]
  },
  {
   "cell_type": "code",
   "execution_count": 17,
   "metadata": {},
   "outputs": [],
   "source": [
    "y_hat = model.predict(X)"
   ]
  },
  {
   "cell_type": "code",
   "execution_count": 18,
   "metadata": {},
   "outputs": [
    {
     "name": "stdout",
     "output_type": "stream",
     "text": [
      "[0 1 1 1 1 1 0 1 1 0 1 1 1 0 0 0 1 1 1 1 0 0 0 0 1 0 0 1 0 1 0 1 1 1 1 0 1\n",
      " 0 0 1]\n",
      "[0 1 1 1 1 1 0 1 1 0 1 1 1 0 0 0 1 1 1 1 0 0 0 0 0 0 0 1 0 1 0 1 1 1 1 0 1\n",
      " 0 0 1]\n"
     ]
    }
   ],
   "source": [
    "print(y_hat[:40])\n",
    "print(y[:40])"
   ]
  },
  {
   "cell_type": "code",
   "execution_count": 20,
   "metadata": {},
   "outputs": [
    {
     "data": {
      "text/plain": [
       "array([[477,  20],\n",
       "       [ 28, 475]], dtype=int64)"
      ]
     },
     "execution_count": 20,
     "metadata": {},
     "output_type": "execute_result"
    }
   ],
   "source": [
    "confusion_matrix(y, y_hat)"
   ]
  },
  {
   "cell_type": "code",
   "execution_count": 21,
   "metadata": {},
   "outputs": [
    {
     "name": "stdout",
     "output_type": "stream",
     "text": [
      "              precision    recall  f1-score   support\n",
      "\n",
      "      class0       0.94      0.96      0.95       497\n",
      "      class1       0.96      0.94      0.95       503\n",
      "\n",
      "    accuracy                           0.95      1000\n",
      "   macro avg       0.95      0.95      0.95      1000\n",
      "weighted avg       0.95      0.95      0.95      1000\n",
      "\n"
     ]
    }
   ],
   "source": [
    "print(classification_report(y, y_hat, target_names=[\"class0\",\"class1\"]))"
   ]
  },
  {
   "cell_type": "code",
   "execution_count": 22,
   "metadata": {},
   "outputs": [],
   "source": [
    "from sklearn.metrics import roc_curve"
   ]
  },
  {
   "cell_type": "code",
   "execution_count": 23,
   "metadata": {},
   "outputs": [
    {
     "data": {
      "text/plain": [
       "Text(0, 0.5, 'True Positive Ratio(Recall)')"
      ]
     },
     "execution_count": 23,
     "metadata": {},
     "output_type": "execute_result"
    },
    {
     "data": {
      "image/png": "[encoded data removed]",
      "text/plain": [
       "<Figure size 432x288 with 1 Axes>"
      ]
     },
     "metadata": {
      "needs_background": "light"
     },
     "output_type": "display_data"
    }
   ],
   "source": [
    "# tpr = 재현율, fpr = fall-out\n",
    "fpr, tpr, thresholds = roc_curve(y, model.decision_function(X))\n",
    "\n",
    "plt.plot(fpr, tpr, \"o-\", label=\"Logistic Regression\")\n",
    "plt.plot([0,1], [0,1], \"k--\", label=\"Random Guess\")\n",
    "plt.xlabel(\"False Positive Ratio(fall-out)\")\n",
    "plt.ylabel(\"True Positive Ratio(Recall)\")"
   ]
  },
  {
   "cell_type": "code",
   "execution_count": 24,
   "metadata": {},
   "outputs": [],
   "source": [
    "from sklearn.metrics import roc_auc_scorec_score"
   ]
  },
  {
   "cell_type": "code",
   "execution_count": 25,
   "metadata": {},
   "outputs": [
    {
     "data": {
      "text/plain": [
       "0.9795592641335089"
      ]
     },
     "execution_count": 25,
     "metadata": {},
     "output_type": "execute_result"
    }
   ],
   "source": [
    "roc_auc_score(y, model.decision_function(X))"
   ]
  },
  {
   "cell_type": "markdown",
   "metadata": {},
   "source": [
    "---\n",
    "### 사례1 : 타이타닉 예제\n",
    "- 성능을 제대로 측정했는지에 대한 관점"
   ]
  },
  {
   "cell_type": "code",
   "execution_count": 26,
   "metadata": {},
   "outputs": [
    {
     "data": {
      "text/html": [
       "<div>\n",
       "<style scoped>\n",
       "    .dataframe tbody tr th:only-of-type {\n",
       "        vertical-align: middle;\n",
       "    }\n",
       "\n",
       "    .dataframe tbody tr th {\n",
       "        vertical-align: top;\n",
       "    }\n",
       "\n",
       "    .dataframe thead th {\n",
       "        text-align: right;\n",
       "    }\n",
       "</style>\n",
       "<table border=\"1\" class=\"dataframe\">\n",
       "  <thead>\n",
       "    <tr style=\"text-align: right;\">\n",
       "      <th></th>\n",
       "      <th>PassengerId</th>\n",
       "      <th>Survived</th>\n",
       "      <th>Pclass</th>\n",
       "      <th>Name</th>\n",
       "      <th>Sex</th>\n",
       "      <th>Age</th>\n",
       "      <th>SibSp</th>\n",
       "      <th>Parch</th>\n",
       "      <th>Ticket</th>\n",
       "      <th>Fare</th>\n",
       "      <th>Cabin</th>\n",
       "      <th>Embarked</th>\n",
       "    </tr>\n",
       "  </thead>\n",
       "  <tbody>\n",
       "    <tr>\n",
       "      <th>0</th>\n",
       "      <td>1</td>\n",
       "      <td>0</td>\n",
       "      <td>3</td>\n",
       "      <td>Braund, Mr. Owen Harris</td>\n",
       "      <td>male</td>\n",
       "      <td>22.0</td>\n",
       "      <td>1</td>\n",
       "      <td>0</td>\n",
       "      <td>A/5 21171</td>\n",
       "      <td>7.2500</td>\n",
       "      <td>NaN</td>\n",
       "      <td>S</td>\n",
       "    </tr>\n",
       "    <tr>\n",
       "      <th>1</th>\n",
       "      <td>2</td>\n",
       "      <td>1</td>\n",
       "      <td>1</td>\n",
       "      <td>Cumings, Mrs. John Bradley (Florence Briggs Th...</td>\n",
       "      <td>female</td>\n",
       "      <td>38.0</td>\n",
       "      <td>1</td>\n",
       "      <td>0</td>\n",
       "      <td>PC 17599</td>\n",
       "      <td>71.2833</td>\n",
       "      <td>C85</td>\n",
       "      <td>C</td>\n",
       "    </tr>\n",
       "    <tr>\n",
       "      <th>2</th>\n",
       "      <td>3</td>\n",
       "      <td>1</td>\n",
       "      <td>3</td>\n",
       "      <td>Heikkinen, Miss. Laina</td>\n",
       "      <td>female</td>\n",
       "      <td>26.0</td>\n",
       "      <td>0</td>\n",
       "      <td>0</td>\n",
       "      <td>STON/O2. 3101282</td>\n",
       "      <td>7.9250</td>\n",
       "      <td>NaN</td>\n",
       "      <td>S</td>\n",
       "    </tr>\n",
       "    <tr>\n",
       "      <th>3</th>\n",
       "      <td>4</td>\n",
       "      <td>1</td>\n",
       "      <td>1</td>\n",
       "      <td>Futrelle, Mrs. Jacques Heath (Lily May Peel)</td>\n",
       "      <td>female</td>\n",
       "      <td>35.0</td>\n",
       "      <td>1</td>\n",
       "      <td>0</td>\n",
       "      <td>113803</td>\n",
       "      <td>53.1000</td>\n",
       "      <td>C123</td>\n",
       "      <td>S</td>\n",
       "    </tr>\n",
       "    <tr>\n",
       "      <th>4</th>\n",
       "      <td>5</td>\n",
       "      <td>0</td>\n",
       "      <td>3</td>\n",
       "      <td>Allen, Mr. William Henry</td>\n",
       "      <td>male</td>\n",
       "      <td>35.0</td>\n",
       "      <td>0</td>\n",
       "      <td>0</td>\n",
       "      <td>373450</td>\n",
       "      <td>8.0500</td>\n",
       "      <td>NaN</td>\n",
       "      <td>S</td>\n",
       "    </tr>\n",
       "  </tbody>\n",
       "</table>\n",
       "</div>"
      ],
      "text/plain": [
       "   PassengerId  Survived  Pclass  \\\n",
       "0            1         0       3   \n",
       "1            2         1       1   \n",
       "2            3         1       3   \n",
       "3            4         1       1   \n",
       "4            5         0       3   \n",
       "\n",
       "                                                Name     Sex   Age  SibSp  \\\n",
       "0                            Braund, Mr. Owen Harris    male  22.0      1   \n",
       "1  Cumings, Mrs. John Bradley (Florence Briggs Th...  female  38.0      1   \n",
       "2                             Heikkinen, Miss. Laina  female  26.0      0   \n",
       "3       Futrelle, Mrs. Jacques Heath (Lily May Peel)  female  35.0      1   \n",
       "4                           Allen, Mr. William Henry    male  35.0      0   \n",
       "\n",
       "   Parch            Ticket     Fare Cabin Embarked  \n",
       "0      0         A/5 21171   7.2500   NaN        S  \n",
       "1      0          PC 17599  71.2833   C85        C  \n",
       "2      0  STON/O2. 3101282   7.9250   NaN        S  \n",
       "3      0            113803  53.1000  C123        S  \n",
       "4      0            373450   8.0500   NaN        S  "
      ]
     },
     "execution_count": 26,
     "metadata": {},
     "output_type": "execute_result"
    }
   ],
   "source": [
    "df = pd.read_csv(\"data/train.csv\")\n",
    "df.head()"
   ]
  },
  {
   "cell_type": "code",
   "execution_count": 27,
   "metadata": {},
   "outputs": [],
   "source": [
    "# 전처리가 필요없는 컬럼\n",
    "cols_to_keep = [\"Survived\", \"Age\", \"Fare\"]"
   ]
  },
  {
   "cell_type": "code",
   "execution_count": 29,
   "metadata": {},
   "outputs": [
    {
     "data": {
      "text/html": [
       "<div>\n",
       "<style scoped>\n",
       "    .dataframe tbody tr th:only-of-type {\n",
       "        vertical-align: middle;\n",
       "    }\n",
       "\n",
       "    .dataframe tbody tr th {\n",
       "        vertical-align: top;\n",
       "    }\n",
       "\n",
       "    .dataframe thead th {\n",
       "        text-align: right;\n",
       "    }\n",
       "</style>\n",
       "<table border=\"1\" class=\"dataframe\">\n",
       "  <thead>\n",
       "    <tr style=\"text-align: right;\">\n",
       "      <th></th>\n",
       "      <th>Pclass_1</th>\n",
       "      <th>Pclass_2</th>\n",
       "      <th>Pclass_3</th>\n",
       "    </tr>\n",
       "  </thead>\n",
       "  <tbody>\n",
       "    <tr>\n",
       "      <th>0</th>\n",
       "      <td>0</td>\n",
       "      <td>0</td>\n",
       "      <td>1</td>\n",
       "    </tr>\n",
       "    <tr>\n",
       "      <th>1</th>\n",
       "      <td>1</td>\n",
       "      <td>0</td>\n",
       "      <td>0</td>\n",
       "    </tr>\n",
       "    <tr>\n",
       "      <th>2</th>\n",
       "      <td>0</td>\n",
       "      <td>0</td>\n",
       "      <td>1</td>\n",
       "    </tr>\n",
       "    <tr>\n",
       "      <th>3</th>\n",
       "      <td>1</td>\n",
       "      <td>0</td>\n",
       "      <td>0</td>\n",
       "    </tr>\n",
       "    <tr>\n",
       "      <th>4</th>\n",
       "      <td>0</td>\n",
       "      <td>0</td>\n",
       "      <td>1</td>\n",
       "    </tr>\n",
       "  </tbody>\n",
       "</table>\n",
       "</div>"
      ],
      "text/plain": [
       "   Pclass_1  Pclass_2  Pclass_3\n",
       "0         0         0         1\n",
       "1         1         0         0\n",
       "2         0         0         1\n",
       "3         1         0         0\n",
       "4         0         0         1"
      ]
     },
     "execution_count": 29,
     "metadata": {},
     "output_type": "execute_result"
    }
   ],
   "source": [
    "# Pclass 의 더미변수화(one hot encoding)\n",
    "dummy_class = pd.get_dummies(df[\"Pclass\"], prefix=\"Pclass\")\n",
    "dummy_class.head()"
   ]
  },
  {
   "cell_type": "code",
   "execution_count": 30,
   "metadata": {},
   "outputs": [
    {
     "data": {
      "text/html": [
       "<div>\n",
       "<style scoped>\n",
       "    .dataframe tbody tr th:only-of-type {\n",
       "        vertical-align: middle;\n",
       "    }\n",
       "\n",
       "    .dataframe tbody tr th {\n",
       "        vertical-align: top;\n",
       "    }\n",
       "\n",
       "    .dataframe thead th {\n",
       "        text-align: right;\n",
       "    }\n",
       "</style>\n",
       "<table border=\"1\" class=\"dataframe\">\n",
       "  <thead>\n",
       "    <tr style=\"text-align: right;\">\n",
       "      <th></th>\n",
       "      <th>Sex_female</th>\n",
       "      <th>Sex_male</th>\n",
       "    </tr>\n",
       "  </thead>\n",
       "  <tbody>\n",
       "    <tr>\n",
       "      <th>0</th>\n",
       "      <td>0</td>\n",
       "      <td>1</td>\n",
       "    </tr>\n",
       "    <tr>\n",
       "      <th>1</th>\n",
       "      <td>1</td>\n",
       "      <td>0</td>\n",
       "    </tr>\n",
       "    <tr>\n",
       "      <th>2</th>\n",
       "      <td>1</td>\n",
       "      <td>0</td>\n",
       "    </tr>\n",
       "    <tr>\n",
       "      <th>3</th>\n",
       "      <td>1</td>\n",
       "      <td>0</td>\n",
       "    </tr>\n",
       "    <tr>\n",
       "      <th>4</th>\n",
       "      <td>0</td>\n",
       "      <td>1</td>\n",
       "    </tr>\n",
       "  </tbody>\n",
       "</table>\n",
       "</div>"
      ],
      "text/plain": [
       "   Sex_female  Sex_male\n",
       "0           0         1\n",
       "1           1         0\n",
       "2           1         0\n",
       "3           1         0\n",
       "4           0         1"
      ]
     },
     "execution_count": 30,
     "metadata": {},
     "output_type": "execute_result"
    }
   ],
   "source": [
    "# Sex 의 더미변수화(one hot encoding)\n",
    "dummy_sex = pd.get_dummies(df[\"Sex\"], prefix=\"Sex\")\n",
    "dummy_sex.head()"
   ]
  },
  {
   "cell_type": "code",
   "execution_count": 32,
   "metadata": {},
   "outputs": [
    {
     "data": {
      "text/html": [
       "<div>\n",
       "<style scoped>\n",
       "    .dataframe tbody tr th:only-of-type {\n",
       "        vertical-align: middle;\n",
       "    }\n",
       "\n",
       "    .dataframe tbody tr th {\n",
       "        vertical-align: top;\n",
       "    }\n",
       "\n",
       "    .dataframe thead th {\n",
       "        text-align: right;\n",
       "    }\n",
       "</style>\n",
       "<table border=\"1\" class=\"dataframe\">\n",
       "  <thead>\n",
       "    <tr style=\"text-align: right;\">\n",
       "      <th></th>\n",
       "      <th>Survived</th>\n",
       "      <th>Age</th>\n",
       "      <th>Fare</th>\n",
       "      <th>Pclass_1</th>\n",
       "      <th>Pclass_2</th>\n",
       "      <th>Pclass_3</th>\n",
       "    </tr>\n",
       "  </thead>\n",
       "  <tbody>\n",
       "    <tr>\n",
       "      <th>0</th>\n",
       "      <td>0</td>\n",
       "      <td>22.0</td>\n",
       "      <td>7.2500</td>\n",
       "      <td>0</td>\n",
       "      <td>0</td>\n",
       "      <td>1</td>\n",
       "    </tr>\n",
       "    <tr>\n",
       "      <th>1</th>\n",
       "      <td>1</td>\n",
       "      <td>38.0</td>\n",
       "      <td>71.2833</td>\n",
       "      <td>1</td>\n",
       "      <td>0</td>\n",
       "      <td>0</td>\n",
       "    </tr>\n",
       "    <tr>\n",
       "      <th>2</th>\n",
       "      <td>1</td>\n",
       "      <td>26.0</td>\n",
       "      <td>7.9250</td>\n",
       "      <td>0</td>\n",
       "      <td>0</td>\n",
       "      <td>1</td>\n",
       "    </tr>\n",
       "    <tr>\n",
       "      <th>3</th>\n",
       "      <td>1</td>\n",
       "      <td>35.0</td>\n",
       "      <td>53.1000</td>\n",
       "      <td>1</td>\n",
       "      <td>0</td>\n",
       "      <td>0</td>\n",
       "    </tr>\n",
       "    <tr>\n",
       "      <th>4</th>\n",
       "      <td>0</td>\n",
       "      <td>35.0</td>\n",
       "      <td>8.0500</td>\n",
       "      <td>0</td>\n",
       "      <td>0</td>\n",
       "      <td>1</td>\n",
       "    </tr>\n",
       "  </tbody>\n",
       "</table>\n",
       "</div>"
      ],
      "text/plain": [
       "   Survived   Age     Fare  Pclass_1  Pclass_2  Pclass_3\n",
       "0         0  22.0   7.2500         0         0         1\n",
       "1         1  38.0  71.2833         1         0         0\n",
       "2         1  26.0   7.9250         0         0         1\n",
       "3         1  35.0  53.1000         1         0         0\n",
       "4         0  35.0   8.0500         0         0         1"
      ]
     },
     "execution_count": 32,
     "metadata": {},
     "output_type": "execute_result"
    }
   ],
   "source": [
    "df1 = df[cols_to_keep].join(dummy_class.loc[:,\"Pclass1\":])\n",
    "df1.head()"
   ]
  },
  {
   "cell_type": "code",
   "execution_count": 34,
   "metadata": {},
   "outputs": [
    {
     "data": {
      "text/html": [
       "<div>\n",
       "<style scoped>\n",
       "    .dataframe tbody tr th:only-of-type {\n",
       "        vertical-align: middle;\n",
       "    }\n",
       "\n",
       "    .dataframe tbody tr th {\n",
       "        vertical-align: top;\n",
       "    }\n",
       "\n",
       "    .dataframe thead th {\n",
       "        text-align: right;\n",
       "    }\n",
       "</style>\n",
       "<table border=\"1\" class=\"dataframe\">\n",
       "  <thead>\n",
       "    <tr style=\"text-align: right;\">\n",
       "      <th></th>\n",
       "      <th>Survived</th>\n",
       "      <th>Age</th>\n",
       "      <th>Fare</th>\n",
       "      <th>Pclass_1</th>\n",
       "      <th>Pclass_2</th>\n",
       "      <th>Pclass_3</th>\n",
       "      <th>Sex_male</th>\n",
       "    </tr>\n",
       "  </thead>\n",
       "  <tbody>\n",
       "    <tr>\n",
       "      <th>0</th>\n",
       "      <td>0</td>\n",
       "      <td>22.0</td>\n",
       "      <td>7.2500</td>\n",
       "      <td>0</td>\n",
       "      <td>0</td>\n",
       "      <td>1</td>\n",
       "      <td>1</td>\n",
       "    </tr>\n",
       "    <tr>\n",
       "      <th>1</th>\n",
       "      <td>1</td>\n",
       "      <td>38.0</td>\n",
       "      <td>71.2833</td>\n",
       "      <td>1</td>\n",
       "      <td>0</td>\n",
       "      <td>0</td>\n",
       "      <td>0</td>\n",
       "    </tr>\n",
       "    <tr>\n",
       "      <th>2</th>\n",
       "      <td>1</td>\n",
       "      <td>26.0</td>\n",
       "      <td>7.9250</td>\n",
       "      <td>0</td>\n",
       "      <td>0</td>\n",
       "      <td>1</td>\n",
       "      <td>0</td>\n",
       "    </tr>\n",
       "    <tr>\n",
       "      <th>3</th>\n",
       "      <td>1</td>\n",
       "      <td>35.0</td>\n",
       "      <td>53.1000</td>\n",
       "      <td>1</td>\n",
       "      <td>0</td>\n",
       "      <td>0</td>\n",
       "      <td>0</td>\n",
       "    </tr>\n",
       "    <tr>\n",
       "      <th>4</th>\n",
       "      <td>0</td>\n",
       "      <td>35.0</td>\n",
       "      <td>8.0500</td>\n",
       "      <td>0</td>\n",
       "      <td>0</td>\n",
       "      <td>1</td>\n",
       "      <td>1</td>\n",
       "    </tr>\n",
       "  </tbody>\n",
       "</table>\n",
       "</div>"
      ],
      "text/plain": [
       "   Survived   Age     Fare  Pclass_1  Pclass_2  Pclass_3  Sex_male\n",
       "0         0  22.0   7.2500         0         0         1         1\n",
       "1         1  38.0  71.2833         1         0         0         0\n",
       "2         1  26.0   7.9250         0         0         1         0\n",
       "3         1  35.0  53.1000         1         0         0         0\n",
       "4         0  35.0   8.0500         0         0         1         1"
      ]
     },
     "execution_count": 34,
     "metadata": {},
     "output_type": "execute_result"
    }
   ],
   "source": [
    "df1 = df1.join(dummy_sex.loc[:, \"Sex_male\"])\n",
    "df1.head()"
   ]
  },
  {
   "cell_type": "code",
   "execution_count": 36,
   "metadata": {},
   "outputs": [
    {
     "data": {
      "text/plain": [
       "Index(['Age', 'Fare', 'Pclass_1', 'Pclass_2', 'Pclass_3', 'Sex_male'], dtype='object')"
      ]
     },
     "execution_count": 36,
     "metadata": {},
     "output_type": "execute_result"
    }
   ],
   "source": [
    "# Survived를 제외한 나머지 컬럼(특성) 추출\n",
    "train_cols = df1.columns[1:]\n",
    "train_cols"
   ]
  },
  {
   "cell_type": "code",
   "execution_count": 39,
   "metadata": {},
   "outputs": [],
   "source": [
    "# 결측치 확인\n",
    "np.isnan(df1[train_cols])\n",
    "df1.isnull().sum()\n",
    "\n",
    "# 결측치 삭제\n",
    "#df1[train_cols] = df1[train_cols].dropna(axis=0)\n",
    "#df1[\"Survived\"] = df1[\"Survived\"].dropna(axis=0)\n",
    "\n",
    "# 0으로 대체\n",
    "df1[train_cols] = df1[train_cols].fillna(0)\n",
    "df1[\"Survived\"] = df1[\"Survived\"].fillna(0)"
   ]
  },
  {
   "cell_type": "code",
   "execution_count": 40,
   "metadata": {},
   "outputs": [],
   "source": [
    "import statsmodels.api as sm"
   ]
  },
  {
   "cell_type": "code",
   "execution_count": 42,
   "metadata": {},
   "outputs": [
    {
     "name": "stdout",
     "output_type": "stream",
     "text": [
      "Optimization terminated successfully.\n",
      "         Current function value: 0.458488\n",
      "         Iterations 6\n"
     ]
    },
    {
     "data": {
      "text/html": [
       "<table class=\"simpletable\">\n",
       "<tr>\n",
       "        <td>Model:</td>              <td>Logit</td>      <td>Pseudo R-squared:</td>    <td>0.311</td>  \n",
       "</tr>\n",
       "<tr>\n",
       "  <td>Dependent Variable:</td>     <td>Survived</td>           <td>AIC:</td>         <td>829.0250</td> \n",
       "</tr>\n",
       "<tr>\n",
       "         <td>Date:</td>        <td>2021-01-12 11:45</td>       <td>BIC:</td>         <td>857.7791</td> \n",
       "</tr>\n",
       "<tr>\n",
       "   <td>No. Observations:</td>         <td>891</td>        <td>Log-Likelihood:</td>    <td>-408.51</td> \n",
       "</tr>\n",
       "<tr>\n",
       "       <td>Df Model:</td>              <td>5</td>            <td>LL-Null:</td>        <td>-593.33</td> \n",
       "</tr>\n",
       "<tr>\n",
       "     <td>Df Residuals:</td>           <td>885</td>         <td>LLR p-value:</td>    <td>1.0371e-77</td>\n",
       "</tr>\n",
       "<tr>\n",
       "      <td>Converged:</td>           <td>1.0000</td>           <td>Scale:</td>         <td>1.0000</td>  \n",
       "</tr>\n",
       "<tr>\n",
       "    <td>No. Iterations:</td>        <td>6.0000</td>              <td></td>               <td></td>     \n",
       "</tr>\n",
       "</table>\n",
       "<table class=\"simpletable\">\n",
       "<tr>\n",
       "      <td></td>      <th>Coef.</th>  <th>Std.Err.</th>     <th>z</th>     <th>P>|z|</th> <th>[0.025</th>  <th>0.975]</th> \n",
       "</tr>\n",
       "<tr>\n",
       "  <th>Age</th>      <td>-0.0159</td>  <td>0.0053</td>   <td>-2.9843</td> <td>0.0028</td> <td>-0.0264</td> <td>-0.0055</td>\n",
       "</tr>\n",
       "<tr>\n",
       "  <th>Fare</th>     <td>0.0015</td>   <td>0.0021</td>   <td>0.7370</td>  <td>0.4611</td> <td>-0.0026</td> <td>0.0056</td> \n",
       "</tr>\n",
       "<tr>\n",
       "  <th>Pclass_1</th> <td>2.6932</td>   <td>0.3372</td>   <td>7.9875</td>  <td>0.0000</td> <td>2.0323</td>  <td>3.3540</td> \n",
       "</tr>\n",
       "<tr>\n",
       "  <th>Pclass_2</th> <td>1.8519</td>   <td>0.2670</td>   <td>6.9358</td>  <td>0.0000</td> <td>1.3286</td>  <td>2.3752</td> \n",
       "</tr>\n",
       "<tr>\n",
       "  <th>Pclass_3</th> <td>0.6215</td>   <td>0.1808</td>   <td>3.4377</td>  <td>0.0006</td> <td>0.2672</td>  <td>0.9758</td> \n",
       "</tr>\n",
       "<tr>\n",
       "  <th>Sex_male</th> <td>-2.6151</td>  <td>0.1860</td>  <td>-14.0594</td> <td>0.0000</td> <td>-2.9797</td> <td>-2.2505</td>\n",
       "</tr>\n",
       "</table>"
      ],
      "text/plain": [
       "<class 'statsmodels.iolib.summary2.Summary'>\n",
       "\"\"\"\n",
       "                         Results: Logit\n",
       "=================================================================\n",
       "Model:              Logit            Pseudo R-squared: 0.311     \n",
       "Dependent Variable: Survived         AIC:              829.0250  \n",
       "Date:               2021-01-12 11:45 BIC:              857.7791  \n",
       "No. Observations:   891              Log-Likelihood:   -408.51   \n",
       "Df Model:           5                LL-Null:          -593.33   \n",
       "Df Residuals:       885              LLR p-value:      1.0371e-77\n",
       "Converged:          1.0000           Scale:            1.0000    \n",
       "No. Iterations:     6.0000                                       \n",
       "------------------------------------------------------------------\n",
       "              Coef.   Std.Err.     z      P>|z|    [0.025   0.975]\n",
       "------------------------------------------------------------------\n",
       "Age          -0.0159    0.0053   -2.9843  0.0028  -0.0264  -0.0055\n",
       "Fare          0.0015    0.0021    0.7370  0.4611  -0.0026   0.0056\n",
       "Pclass_1      2.6932    0.3372    7.9875  0.0000   2.0323   3.3540\n",
       "Pclass_2      1.8519    0.2670    6.9358  0.0000   1.3286   2.3752\n",
       "Pclass_3      0.6215    0.1808    3.4377  0.0006   0.2672   0.9758\n",
       "Sex_male     -2.6151    0.1860  -14.0594  0.0000  -2.9797  -2.2505\n",
       "=================================================================\n",
       "\n",
       "\"\"\""
      ]
     },
     "execution_count": 42,
     "metadata": {},
     "output_type": "execute_result"
    }
   ],
   "source": [
    "model = sm.Logit(df1[\"Survived\"], df1[train_cols]).fit()\n",
    "model.summary2()"
   ]
  },
  {
   "cell_type": "code",
   "execution_count": 1,
   "metadata": {},
   "outputs": [
    {
     "ename": "NameError",
     "evalue": "name 'LogisticRegression' is not defined",
     "output_type": "error",
     "traceback": [
      "\u001b[1;31m---------------------------------------------------------------------------\u001b[0m",
      "\u001b[1;31mNameError\u001b[0m                                 Traceback (most recent call last)",
      "\u001b[1;32m<ipython-input-1-91f205e78789>\u001b[0m in \u001b[0;36m<module>\u001b[1;34m\u001b[0m\n\u001b[1;32m----> 1\u001b[1;33m \u001b[0mmodel2\u001b[0m \u001b[1;33m=\u001b[0m \u001b[0mLogisticRegression\u001b[0m\u001b[1;33m(\u001b[0m\u001b[1;33m)\u001b[0m\u001b[1;33m.\u001b[0m\u001b[0mfit\u001b[0m\u001b[1;33m(\u001b[0m\u001b[0mdf1\u001b[0m\u001b[1;33m[\u001b[0m\u001b[0mtrain_cols\u001b[0m\u001b[1;33m]\u001b[0m\u001b[1;33m,\u001b[0m \u001b[0mdf1\u001b[0m\u001b[1;33m[\u001b[0m\u001b[1;34m\"Survived\"\u001b[0m\u001b[1;33m]\u001b[0m\u001b[1;33m)\u001b[0m\u001b[1;33m\u001b[0m\u001b[1;33m\u001b[0m\u001b[0m\n\u001b[0m",
      "\u001b[1;31mNameError\u001b[0m: name 'LogisticRegression' is not defined"
     ]
    }
   ],
   "source": [
    "model2 = LogisticRegression().fit(df1[train_cols], df1[\"Survived\"])"
   ]
  },
  {
   "cell_type": "code",
   "execution_count": 46,
   "metadata": {},
   "outputs": [
    {
     "data": {
      "text/html": [
       "<div>\n",
       "<style scoped>\n",
       "    .dataframe tbody tr th:only-of-type {\n",
       "        vertical-align: middle;\n",
       "    }\n",
       "\n",
       "    .dataframe tbody tr th {\n",
       "        vertical-align: top;\n",
       "    }\n",
       "\n",
       "    .dataframe thead th {\n",
       "        text-align: right;\n",
       "    }\n",
       "</style>\n",
       "<table border=\"1\" class=\"dataframe\">\n",
       "  <thead>\n",
       "    <tr style=\"text-align: right;\">\n",
       "      <th></th>\n",
       "      <th>Survived</th>\n",
       "      <th>Age</th>\n",
       "      <th>Fare</th>\n",
       "      <th>Pclass_1</th>\n",
       "      <th>Pclass_2</th>\n",
       "      <th>Pclass_3</th>\n",
       "      <th>Sex_male</th>\n",
       "      <th>predict</th>\n",
       "    </tr>\n",
       "  </thead>\n",
       "  <tbody>\n",
       "    <tr>\n",
       "      <th>0</th>\n",
       "      <td>0</td>\n",
       "      <td>22.0</td>\n",
       "      <td>7.2500</td>\n",
       "      <td>0</td>\n",
       "      <td>0</td>\n",
       "      <td>1</td>\n",
       "      <td>1</td>\n",
       "      <td>0</td>\n",
       "    </tr>\n",
       "    <tr>\n",
       "      <th>1</th>\n",
       "      <td>1</td>\n",
       "      <td>38.0</td>\n",
       "      <td>71.2833</td>\n",
       "      <td>1</td>\n",
       "      <td>0</td>\n",
       "      <td>0</td>\n",
       "      <td>0</td>\n",
       "      <td>1</td>\n",
       "    </tr>\n",
       "    <tr>\n",
       "      <th>2</th>\n",
       "      <td>1</td>\n",
       "      <td>26.0</td>\n",
       "      <td>7.9250</td>\n",
       "      <td>0</td>\n",
       "      <td>0</td>\n",
       "      <td>1</td>\n",
       "      <td>0</td>\n",
       "      <td>1</td>\n",
       "    </tr>\n",
       "    <tr>\n",
       "      <th>3</th>\n",
       "      <td>1</td>\n",
       "      <td>35.0</td>\n",
       "      <td>53.1000</td>\n",
       "      <td>1</td>\n",
       "      <td>0</td>\n",
       "      <td>0</td>\n",
       "      <td>0</td>\n",
       "      <td>1</td>\n",
       "    </tr>\n",
       "    <tr>\n",
       "      <th>4</th>\n",
       "      <td>0</td>\n",
       "      <td>35.0</td>\n",
       "      <td>8.0500</td>\n",
       "      <td>0</td>\n",
       "      <td>0</td>\n",
       "      <td>1</td>\n",
       "      <td>1</td>\n",
       "      <td>0</td>\n",
       "    </tr>\n",
       "    <tr>\n",
       "      <th>5</th>\n",
       "      <td>0</td>\n",
       "      <td>0.0</td>\n",
       "      <td>8.4583</td>\n",
       "      <td>0</td>\n",
       "      <td>0</td>\n",
       "      <td>1</td>\n",
       "      <td>1</td>\n",
       "      <td>0</td>\n",
       "    </tr>\n",
       "    <tr>\n",
       "      <th>6</th>\n",
       "      <td>0</td>\n",
       "      <td>54.0</td>\n",
       "      <td>51.8625</td>\n",
       "      <td>1</td>\n",
       "      <td>0</td>\n",
       "      <td>0</td>\n",
       "      <td>1</td>\n",
       "      <td>0</td>\n",
       "    </tr>\n",
       "    <tr>\n",
       "      <th>7</th>\n",
       "      <td>0</td>\n",
       "      <td>2.0</td>\n",
       "      <td>21.0750</td>\n",
       "      <td>0</td>\n",
       "      <td>0</td>\n",
       "      <td>1</td>\n",
       "      <td>1</td>\n",
       "      <td>0</td>\n",
       "    </tr>\n",
       "    <tr>\n",
       "      <th>8</th>\n",
       "      <td>1</td>\n",
       "      <td>27.0</td>\n",
       "      <td>11.1333</td>\n",
       "      <td>0</td>\n",
       "      <td>0</td>\n",
       "      <td>1</td>\n",
       "      <td>0</td>\n",
       "      <td>1</td>\n",
       "    </tr>\n",
       "    <tr>\n",
       "      <th>9</th>\n",
       "      <td>1</td>\n",
       "      <td>14.0</td>\n",
       "      <td>30.0708</td>\n",
       "      <td>0</td>\n",
       "      <td>1</td>\n",
       "      <td>0</td>\n",
       "      <td>0</td>\n",
       "      <td>1</td>\n",
       "    </tr>\n",
       "    <tr>\n",
       "      <th>10</th>\n",
       "      <td>1</td>\n",
       "      <td>4.0</td>\n",
       "      <td>16.7000</td>\n",
       "      <td>0</td>\n",
       "      <td>0</td>\n",
       "      <td>1</td>\n",
       "      <td>0</td>\n",
       "      <td>1</td>\n",
       "    </tr>\n",
       "    <tr>\n",
       "      <th>11</th>\n",
       "      <td>1</td>\n",
       "      <td>58.0</td>\n",
       "      <td>26.5500</td>\n",
       "      <td>1</td>\n",
       "      <td>0</td>\n",
       "      <td>0</td>\n",
       "      <td>0</td>\n",
       "      <td>1</td>\n",
       "    </tr>\n",
       "    <tr>\n",
       "      <th>12</th>\n",
       "      <td>0</td>\n",
       "      <td>20.0</td>\n",
       "      <td>8.0500</td>\n",
       "      <td>0</td>\n",
       "      <td>0</td>\n",
       "      <td>1</td>\n",
       "      <td>1</td>\n",
       "      <td>0</td>\n",
       "    </tr>\n",
       "    <tr>\n",
       "      <th>13</th>\n",
       "      <td>0</td>\n",
       "      <td>39.0</td>\n",
       "      <td>31.2750</td>\n",
       "      <td>0</td>\n",
       "      <td>0</td>\n",
       "      <td>1</td>\n",
       "      <td>1</td>\n",
       "      <td>0</td>\n",
       "    </tr>\n",
       "    <tr>\n",
       "      <th>14</th>\n",
       "      <td>0</td>\n",
       "      <td>14.0</td>\n",
       "      <td>7.8542</td>\n",
       "      <td>0</td>\n",
       "      <td>0</td>\n",
       "      <td>1</td>\n",
       "      <td>0</td>\n",
       "      <td>1</td>\n",
       "    </tr>\n",
       "    <tr>\n",
       "      <th>15</th>\n",
       "      <td>1</td>\n",
       "      <td>55.0</td>\n",
       "      <td>16.0000</td>\n",
       "      <td>0</td>\n",
       "      <td>1</td>\n",
       "      <td>0</td>\n",
       "      <td>0</td>\n",
       "      <td>1</td>\n",
       "    </tr>\n",
       "    <tr>\n",
       "      <th>16</th>\n",
       "      <td>0</td>\n",
       "      <td>2.0</td>\n",
       "      <td>29.1250</td>\n",
       "      <td>0</td>\n",
       "      <td>0</td>\n",
       "      <td>1</td>\n",
       "      <td>1</td>\n",
       "      <td>0</td>\n",
       "    </tr>\n",
       "    <tr>\n",
       "      <th>17</th>\n",
       "      <td>1</td>\n",
       "      <td>0.0</td>\n",
       "      <td>13.0000</td>\n",
       "      <td>0</td>\n",
       "      <td>1</td>\n",
       "      <td>0</td>\n",
       "      <td>1</td>\n",
       "      <td>0</td>\n",
       "    </tr>\n",
       "    <tr>\n",
       "      <th>18</th>\n",
       "      <td>0</td>\n",
       "      <td>31.0</td>\n",
       "      <td>18.0000</td>\n",
       "      <td>0</td>\n",
       "      <td>0</td>\n",
       "      <td>1</td>\n",
       "      <td>0</td>\n",
       "      <td>1</td>\n",
       "    </tr>\n",
       "    <tr>\n",
       "      <th>19</th>\n",
       "      <td>1</td>\n",
       "      <td>0.0</td>\n",
       "      <td>7.2250</td>\n",
       "      <td>0</td>\n",
       "      <td>0</td>\n",
       "      <td>1</td>\n",
       "      <td>0</td>\n",
       "      <td>1</td>\n",
       "    </tr>\n",
       "    <tr>\n",
       "      <th>20</th>\n",
       "      <td>0</td>\n",
       "      <td>35.0</td>\n",
       "      <td>26.0000</td>\n",
       "      <td>0</td>\n",
       "      <td>1</td>\n",
       "      <td>0</td>\n",
       "      <td>1</td>\n",
       "      <td>0</td>\n",
       "    </tr>\n",
       "    <tr>\n",
       "      <th>21</th>\n",
       "      <td>1</td>\n",
       "      <td>34.0</td>\n",
       "      <td>13.0000</td>\n",
       "      <td>0</td>\n",
       "      <td>1</td>\n",
       "      <td>0</td>\n",
       "      <td>1</td>\n",
       "      <td>0</td>\n",
       "    </tr>\n",
       "    <tr>\n",
       "      <th>22</th>\n",
       "      <td>1</td>\n",
       "      <td>15.0</td>\n",
       "      <td>8.0292</td>\n",
       "      <td>0</td>\n",
       "      <td>0</td>\n",
       "      <td>1</td>\n",
       "      <td>0</td>\n",
       "      <td>1</td>\n",
       "    </tr>\n",
       "    <tr>\n",
       "      <th>23</th>\n",
       "      <td>1</td>\n",
       "      <td>28.0</td>\n",
       "      <td>35.5000</td>\n",
       "      <td>1</td>\n",
       "      <td>0</td>\n",
       "      <td>0</td>\n",
       "      <td>1</td>\n",
       "      <td>0</td>\n",
       "    </tr>\n",
       "    <tr>\n",
       "      <th>24</th>\n",
       "      <td>0</td>\n",
       "      <td>8.0</td>\n",
       "      <td>21.0750</td>\n",
       "      <td>0</td>\n",
       "      <td>0</td>\n",
       "      <td>1</td>\n",
       "      <td>0</td>\n",
       "      <td>1</td>\n",
       "    </tr>\n",
       "    <tr>\n",
       "      <th>25</th>\n",
       "      <td>1</td>\n",
       "      <td>38.0</td>\n",
       "      <td>31.3875</td>\n",
       "      <td>0</td>\n",
       "      <td>0</td>\n",
       "      <td>1</td>\n",
       "      <td>0</td>\n",
       "      <td>1</td>\n",
       "    </tr>\n",
       "    <tr>\n",
       "      <th>26</th>\n",
       "      <td>0</td>\n",
       "      <td>0.0</td>\n",
       "      <td>7.2250</td>\n",
       "      <td>0</td>\n",
       "      <td>0</td>\n",
       "      <td>1</td>\n",
       "      <td>1</td>\n",
       "      <td>0</td>\n",
       "    </tr>\n",
       "    <tr>\n",
       "      <th>27</th>\n",
       "      <td>0</td>\n",
       "      <td>19.0</td>\n",
       "      <td>263.0000</td>\n",
       "      <td>1</td>\n",
       "      <td>0</td>\n",
       "      <td>0</td>\n",
       "      <td>1</td>\n",
       "      <td>1</td>\n",
       "    </tr>\n",
       "    <tr>\n",
       "      <th>28</th>\n",
       "      <td>1</td>\n",
       "      <td>0.0</td>\n",
       "      <td>7.8792</td>\n",
       "      <td>0</td>\n",
       "      <td>0</td>\n",
       "      <td>1</td>\n",
       "      <td>0</td>\n",
       "      <td>1</td>\n",
       "    </tr>\n",
       "    <tr>\n",
       "      <th>29</th>\n",
       "      <td>0</td>\n",
       "      <td>0.0</td>\n",
       "      <td>7.8958</td>\n",
       "      <td>0</td>\n",
       "      <td>0</td>\n",
       "      <td>1</td>\n",
       "      <td>1</td>\n",
       "      <td>0</td>\n",
       "    </tr>\n",
       "    <tr>\n",
       "      <th>30</th>\n",
       "      <td>0</td>\n",
       "      <td>40.0</td>\n",
       "      <td>27.7208</td>\n",
       "      <td>1</td>\n",
       "      <td>0</td>\n",
       "      <td>0</td>\n",
       "      <td>1</td>\n",
       "      <td>0</td>\n",
       "    </tr>\n",
       "    <tr>\n",
       "      <th>31</th>\n",
       "      <td>1</td>\n",
       "      <td>0.0</td>\n",
       "      <td>146.5208</td>\n",
       "      <td>1</td>\n",
       "      <td>0</td>\n",
       "      <td>0</td>\n",
       "      <td>0</td>\n",
       "      <td>1</td>\n",
       "    </tr>\n",
       "    <tr>\n",
       "      <th>32</th>\n",
       "      <td>1</td>\n",
       "      <td>0.0</td>\n",
       "      <td>7.7500</td>\n",
       "      <td>0</td>\n",
       "      <td>0</td>\n",
       "      <td>1</td>\n",
       "      <td>0</td>\n",
       "      <td>1</td>\n",
       "    </tr>\n",
       "    <tr>\n",
       "      <th>33</th>\n",
       "      <td>0</td>\n",
       "      <td>66.0</td>\n",
       "      <td>10.5000</td>\n",
       "      <td>0</td>\n",
       "      <td>1</td>\n",
       "      <td>0</td>\n",
       "      <td>1</td>\n",
       "      <td>0</td>\n",
       "    </tr>\n",
       "    <tr>\n",
       "      <th>34</th>\n",
       "      <td>0</td>\n",
       "      <td>28.0</td>\n",
       "      <td>82.1708</td>\n",
       "      <td>1</td>\n",
       "      <td>0</td>\n",
       "      <td>0</td>\n",
       "      <td>1</td>\n",
       "      <td>0</td>\n",
       "    </tr>\n",
       "    <tr>\n",
       "      <th>35</th>\n",
       "      <td>0</td>\n",
       "      <td>42.0</td>\n",
       "      <td>52.0000</td>\n",
       "      <td>1</td>\n",
       "      <td>0</td>\n",
       "      <td>0</td>\n",
       "      <td>1</td>\n",
       "      <td>0</td>\n",
       "    </tr>\n",
       "    <tr>\n",
       "      <th>36</th>\n",
       "      <td>1</td>\n",
       "      <td>0.0</td>\n",
       "      <td>7.2292</td>\n",
       "      <td>0</td>\n",
       "      <td>0</td>\n",
       "      <td>1</td>\n",
       "      <td>1</td>\n",
       "      <td>0</td>\n",
       "    </tr>\n",
       "    <tr>\n",
       "      <th>37</th>\n",
       "      <td>0</td>\n",
       "      <td>21.0</td>\n",
       "      <td>8.0500</td>\n",
       "      <td>0</td>\n",
       "      <td>0</td>\n",
       "      <td>1</td>\n",
       "      <td>1</td>\n",
       "      <td>0</td>\n",
       "    </tr>\n",
       "    <tr>\n",
       "      <th>38</th>\n",
       "      <td>0</td>\n",
       "      <td>18.0</td>\n",
       "      <td>18.0000</td>\n",
       "      <td>0</td>\n",
       "      <td>0</td>\n",
       "      <td>1</td>\n",
       "      <td>0</td>\n",
       "      <td>1</td>\n",
       "    </tr>\n",
       "    <tr>\n",
       "      <th>39</th>\n",
       "      <td>1</td>\n",
       "      <td>14.0</td>\n",
       "      <td>11.2417</td>\n",
       "      <td>0</td>\n",
       "      <td>0</td>\n",
       "      <td>1</td>\n",
       "      <td>0</td>\n",
       "      <td>1</td>\n",
       "    </tr>\n",
       "  </tbody>\n",
       "</table>\n",
       "</div>"
      ],
      "text/plain": [
       "    Survived   Age      Fare  Pclass_1  Pclass_2  Pclass_3  Sex_male  predict\n",
       "0          0  22.0    7.2500         0         0         1         1        0\n",
       "1          1  38.0   71.2833         1         0         0         0        1\n",
       "2          1  26.0    7.9250         0         0         1         0        1\n",
       "3          1  35.0   53.1000         1         0         0         0        1\n",
       "4          0  35.0    8.0500         0         0         1         1        0\n",
       "5          0   0.0    8.4583         0         0         1         1        0\n",
       "6          0  54.0   51.8625         1         0         0         1        0\n",
       "7          0   2.0   21.0750         0         0         1         1        0\n",
       "8          1  27.0   11.1333         0         0         1         0        1\n",
       "9          1  14.0   30.0708         0         1         0         0        1\n",
       "10         1   4.0   16.7000         0         0         1         0        1\n",
       "11         1  58.0   26.5500         1         0         0         0        1\n",
       "12         0  20.0    8.0500         0         0         1         1        0\n",
       "13         0  39.0   31.2750         0         0         1         1        0\n",
       "14         0  14.0    7.8542         0         0         1         0        1\n",
       "15         1  55.0   16.0000         0         1         0         0        1\n",
       "16         0   2.0   29.1250         0         0         1         1        0\n",
       "17         1   0.0   13.0000         0         1         0         1        0\n",
       "18         0  31.0   18.0000         0         0         1         0        1\n",
       "19         1   0.0    7.2250         0         0         1         0        1\n",
       "20         0  35.0   26.0000         0         1         0         1        0\n",
       "21         1  34.0   13.0000         0         1         0         1        0\n",
       "22         1  15.0    8.0292         0         0         1         0        1\n",
       "23         1  28.0   35.5000         1         0         0         1        0\n",
       "24         0   8.0   21.0750         0         0         1         0        1\n",
       "25         1  38.0   31.3875         0         0         1         0        1\n",
       "26         0   0.0    7.2250         0         0         1         1        0\n",
       "27         0  19.0  263.0000         1         0         0         1        1\n",
       "28         1   0.0    7.8792         0         0         1         0        1\n",
       "29         0   0.0    7.8958         0         0         1         1        0\n",
       "30         0  40.0   27.7208         1         0         0         1        0\n",
       "31         1   0.0  146.5208         1         0         0         0        1\n",
       "32         1   0.0    7.7500         0         0         1         0        1\n",
       "33         0  66.0   10.5000         0         1         0         1        0\n",
       "34         0  28.0   82.1708         1         0         0         1        0\n",
       "35         0  42.0   52.0000         1         0         0         1        0\n",
       "36         1   0.0    7.2292         0         0         1         1        0\n",
       "37         0  21.0    8.0500         0         0         1         1        0\n",
       "38         0  18.0   18.0000         0         0         1         0        1\n",
       "39         1  14.0   11.2417         0         0         1         0        1"
      ]
     },
     "execution_count": 46,
     "metadata": {},
     "output_type": "execute_result"
    }
   ],
   "source": [
    "df1[\"predict\"] = model2.predict(df1[train_cols])\n",
    "df1.head(40)"
   ]
  },
  {
   "cell_type": "code",
   "execution_count": 49,
   "metadata": {},
   "outputs": [
    {
     "data": {
      "text/plain": [
       "array([[242, 100],\n",
       "       [ 93, 456]], dtype=int64)"
      ]
     },
     "execution_count": 49,
     "metadata": {},
     "output_type": "execute_result"
    }
   ],
   "source": [
    "confusion_matrix(df1[\"Survived\"], df1[\"predict\"], labels=[1, 0])"
   ]
  },
  {
   "cell_type": "code",
   "execution_count": 52,
   "metadata": {},
   "outputs": [
    {
     "name": "stdout",
     "output_type": "stream",
     "text": [
      "정확도 :  0.7833894500561167\n",
      "정확도 :  0.7833894500561167\n"
     ]
    }
   ],
   "source": [
    "# 일단 정확도를 확인\n",
    "print(\"정확도 : \", model2.score(df1[train_cols], df1[\"Survived\"]))\n",
    "print(\"정확도 : \", (242+456)/(242+100+93+456))"
   ]
  },
  {
   "cell_type": "code",
   "execution_count": 55,
   "metadata": {},
   "outputs": [
    {
     "name": "stdout",
     "output_type": "stream",
     "text": [
      "              precision    recall  f1-score   support\n",
      "\n",
      "           0       0.82      0.83      0.83       549\n",
      "           1       0.72      0.71      0.71       342\n",
      "\n",
      "    accuracy                           0.78       891\n",
      "   macro avg       0.77      0.77      0.77       891\n",
      "weighted avg       0.78      0.78      0.78       891\n",
      "\n"
     ]
    }
   ],
   "source": [
    "print(classification_report(df1[\"Survived\"], df1[\"predict\"]))"
   ]
  },
  {
   "cell_type": "code",
   "execution_count": 59,
   "metadata": {},
   "outputs": [
    {
     "data": {
      "text/plain": [
       "Text(0, 0.5, 'True Positive Ratio(Recall)')"
      ]
     },
     "execution_count": 59,
     "metadata": {},
     "output_type": "execute_result"
    },
    {
     "data": {
      "image/png": "[encoded data removed]",
      "text/plain": [
       "<Figure size 432x288 with 1 Axes>"
      ]
     },
     "metadata": {
      "needs_background": "light"
     },
     "output_type": "display_data"
    }
   ],
   "source": [
    "# ROC 곡선\n",
    "fpr, tpr, thresholds = roc_curve(df1[\"Survived\"], model2.decision_function(df1[train_cols]))\n",
    "\n",
    "plt.plot(fpr, tpr, \"o-\", label=\"Logistic Regression\")\n",
    "plt.plot([0,1], [0,1], \"k--\", label=\"Random Guess\")\n",
    "plt.xlabel(\"False Positive Ratio(fall-out)\")\n",
    "plt.ylabel(\"True Positive Ratio(Recall)\")"
   ]
  },
  {
   "cell_type": "code",
   "execution_count": 60,
   "metadata": {},
   "outputs": [
    {
     "data": {
      "text/plain": [
       "0.8414235345497928"
      ]
     },
     "execution_count": 60,
     "metadata": {},
     "output_type": "execute_result"
    }
   ],
   "source": [
    "roc_auc_score(df1[\"Survived\"], model2.decision_function(df1[train_cols]))"
   ]
  },
  {
   "cell_type": "code",
   "execution_count": null,
   "metadata": {},
   "outputs": [],
   "source": []
  }
 ],
 "metadata": {
  "kernelspec": {
   "display_name": "Python 3 (ipykernel)",
   "language": "python",
   "name": "python3"
  },
  "language_info": {
   "codemirror_mode": {
    "name": "ipython",
    "version": 3
   },
   "file_extension": ".py",
   "mimetype": "text/x-python",
   "name": "python",
   "nbconvert_exporter": "python",
   "pygments_lexer": "ipython3",
   "version": "3.9.7"
  }
 },
 "nbformat": 4,
 "nbformat_minor": 4
}
